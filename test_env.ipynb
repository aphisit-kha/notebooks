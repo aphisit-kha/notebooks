{
 "cells": [
  {
   "cell_type": "code",
   "execution_count": 2,
   "metadata": {},
   "outputs": [
    {
     "name": "stdout",
     "output_type": "stream",
     "text": [
      "None None Khaithong None {ODBC Driver 17 for SQL Server}\n"
     ]
    }
   ],
   "source": [
    "#!/usr/bin/env python3\n",
    "import pyodbc\n",
    "import os\n",
    "\n",
    "server = os.getenv('db_address')\n",
    "database = os.getenv('db_name')\n",
    "username = os.getenv('username')\n",
    "password = os.getenv('password')\n",
    "driver= '{ODBC Driver 17 for SQL Server}'\n",
    "\n",
    "print(server, database, username, password, driver)\n",
    "\n",
    "# try:\n",
    "#     cnxn = pyodbc.connect(f'DRIVER={{ODBC Driver 17 for SQL Server}};SERVER={server};PORT=1433;DATABASE={database};UID={username};PWD={password}')\n",
    "#     cursor = cnxn.cursor()\n",
    "#     print('Connected to Azure SQL Server successfully')\n",
    "# except Exception as e:\n",
    "#     print(\"Connection failed. Error:\", str(e))"
   ]
  }
 ],
 "metadata": {
  "kernelspec": {
   "display_name": "NewLoanV2",
   "language": "python",
   "name": "python3"
  },
  "language_info": {
   "codemirror_mode": {
    "name": "ipython",
    "version": 3
   },
   "file_extension": ".py",
   "mimetype": "text/x-python",
   "name": "python",
   "nbconvert_exporter": "python",
   "pygments_lexer": "ipython3",
   "version": "3.10.4"
  },
  "orig_nbformat": 4
 },
 "nbformat": 4,
 "nbformat_minor": 2
}
