{
 "cells": [
  {
   "cell_type": "code",
   "execution_count": 8,
   "metadata": {},
   "outputs": [
    {
     "name": "stdout",
     "output_type": "stream",
     "text": [
      "2.5507619777448864\n",
      "30.609143732938637\n"
     ]
    }
   ],
   "source": [
    "import numpy as np\n",
    "from decimal import Decimal\n",
    "\n",
    "cash_flow = [Decimal('-207510.00'), Decimal('8878.50'), Decimal('8878.50'), Decimal('8878.50'), Decimal('8878.50'), Decimal('8878.50'), Decimal('8878.50'), Decimal('8878.50'), Decimal('8878.50'), Decimal('8878.50'), Decimal('8878.50'), Decimal('8878.50'), Decimal('8878.50'), Decimal('8878.50'), Decimal('8878.50'), Decimal('8878.50'), Decimal('8878.50'), Decimal('8878.50'), Decimal('8878.50'), Decimal('8878.50'), Decimal('8878.50'), Decimal('8878.50'), Decimal('8878.50'), Decimal('8878.50'), Decimal('8878.50'), Decimal('8878.50'), Decimal('8878.50'), Decimal('8878.50'), Decimal('8878.50'), Decimal('8878.50'), Decimal('8878.50'), Decimal('8878.50'), Decimal('8878.50'), Decimal('8878.50'), Decimal('8878.50'), Decimal('8878.50'), Decimal('8878.67')]\n",
    "\n",
    "irr_rate = np.irr(cash_flow)\n",
    "irr_rate_y = irr_rate*12\n",
    "print(irr_rate*100)\n",
    "print(irr_rate_y*100)"
   ]
  },
  {
   "cell_type": "code",
   "execution_count": null,
   "metadata": {},
   "outputs": [],
   "source": []
  }
 ],
 "metadata": {
  "kernelspec": {
   "display_name": "Python 3",
   "language": "python",
   "name": "python3"
  },
  "language_info": {
   "codemirror_mode": {
    "name": "ipython",
    "version": 3
   },
   "file_extension": ".py",
   "mimetype": "text/x-python",
   "name": "python",
   "nbconvert_exporter": "python",
   "pygments_lexer": "ipython3",
   "version": "3.7.4"
  }
 },
 "nbformat": 4,
 "nbformat_minor": 2
}
