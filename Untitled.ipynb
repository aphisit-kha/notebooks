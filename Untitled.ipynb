{
 "cells": [
  {
   "cell_type": "code",
   "execution_count": 5,
   "metadata": {},
   "outputs": [
    {
     "name": "stdout",
     "output_type": "stream",
     "text": [
      "a 1\n",
      "b 2\n",
      "c 3\n"
     ]
    }
   ],
   "source": [
    "datas = [\n",
    "    {'a': 1, 'b': 2, 'c': 3}\n",
    "]\n",
    "for data in datas:\n",
    "    for key, value in data.items():\n",
    "        print(key, value)"
   ]
  },
  {
   "cell_type": "code",
   "execution_count": 5,
   "metadata": {},
   "outputs": [
    {
     "name": "stdout",
     "output_type": "stream",
     "text": [
      "ค่าธรรมเนียมประเมิณ\n",
      "ค่าอากรแสตมป์\n",
      "ค่าธรรมเนียมโอนกรรมสิทธิ์\n"
     ]
    }
   ],
   "source": [
    "datas = [\n",
    "    {\n",
    "        \"id\": 1054,\n",
    "        \"payfor\": 1,\n",
    "        \"payfor_name\": {\n",
    "            \"id\": 1,\n",
    "            \"payfor_type_name\": \"อื่นๆ\",\n",
    "            \"vat_status_name\": \"ออกใบกำกับ\",\n",
    "            \"payfor_code\": \"5001\",\n",
    "            \"payfor_name\": \"ค่าธรรมเนียมประเมิณ\",\n",
    "            \"payfor_type\": \"5\",\n",
    "            \"vat_status\": \"Y\",\n",
    "            \"status\": \"A\",\n",
    "            \"slug\": \"5001\"\n",
    "        },\n",
    "        \"payfor_type\": \"5\",\n",
    "        \"payfor_type_name\": \"อื่นๆ\",\n",
    "        \"vat_status\": \"Y\",\n",
    "        \"vat_status_name\": \"ออกใบกำกับ\",\n",
    "        \"amount\": 7000.0,\n",
    "        \"slug\": \"202082611494953415\"\n",
    "    },\n",
    "    {\n",
    "        \"id\": 1055,\n",
    "        \"payfor\": 2,\n",
    "        \"payfor_name\": {\n",
    "            \"id\": 2,\n",
    "            \"payfor_type_name\": \"อื่นๆ\",\n",
    "            \"vat_status_name\": \"ไม่ออกใบกำกับ\",\n",
    "            \"payfor_code\": \"5002\",\n",
    "            \"payfor_name\": \"ค่าอากรแสตมป์\",\n",
    "            \"payfor_type\": \"5\",\n",
    "            \"vat_status\": \"N\",\n",
    "            \"status\": \"A\",\n",
    "            \"slug\": \"5002\"\n",
    "        },\n",
    "        \"payfor_type\": \"5\",\n",
    "        \"payfor_type_name\": \"อื่นๆ\",\n",
    "        \"vat_status\": \"N\",\n",
    "        \"vat_status_name\": \"ไม่ออกใบกำกับ\",\n",
    "        \"amount\": 295.0,\n",
    "        \"slug\": \"20208261150506802\"\n",
    "    },\n",
    "    {\n",
    "        \"id\": 1056,\n",
    "        \"payfor\": 3,\n",
    "        \"payfor_name\": {\n",
    "            \"id\": 3,\n",
    "            \"payfor_type_name\": \"อื่นๆ\",\n",
    "            \"vat_status_name\": \"ออกใบกำกับ\",\n",
    "            \"payfor_code\": \"5003\",\n",
    "            \"payfor_name\": \"ค่าธรรมเนียมโอนกรรมสิทธิ์\",\n",
    "            \"payfor_type\": \"5\",\n",
    "            \"vat_status\": \"Y\",\n",
    "            \"status\": \"A\",\n",
    "            \"slug\": \"5003\"\n",
    "        },\n",
    "        \"payfor_type\": \"5\",\n",
    "        \"payfor_type_name\": \"อื่นๆ\",\n",
    "        \"vat_status\": \"Y\",\n",
    "        \"vat_status_name\": \"ออกใบกำกับ\",\n",
    "        \"amount\": 300.0,\n",
    "        \"slug\": \"202082611505013934\"\n",
    "    }\n",
    "]\n",
    "\n",
    "for item in datas:\n",
    "    print(item['payfor_name']['payfor_name'])"
   ]
  },
  {
   "cell_type": "code",
   "execution_count": 3,
   "metadata": {},
   "outputs": [
    {
     "name": "stdout",
     "output_type": "stream",
     "text": [
      "2020-08-28\n",
      "2020-08-01\n",
      "2020-08-31\n"
     ]
    }
   ],
   "source": [
    "from datetime import datetime, date\n",
    "import calendar\n",
    "\n",
    "today = date.today()\n",
    "date_from = today.replace(day = 1)\n",
    "date_to = today.replace(day = calendar.monthrange(today.year, today.month)[1])\n",
    "print(today)\n",
    "print(date_from)\n",
    "print(date_to)"
   ]
  },
  {
   "cell_type": "code",
   "execution_count": null,
   "metadata": {},
   "outputs": [],
   "source": []
  }
 ],
 "metadata": {
  "kernelspec": {
   "display_name": "Python 3",
   "language": "python",
   "name": "python3"
  },
  "language_info": {
   "codemirror_mode": {
    "name": "ipython",
    "version": 3
   },
   "file_extension": ".py",
   "mimetype": "text/x-python",
   "name": "python",
   "nbconvert_exporter": "python",
   "pygments_lexer": "ipython3",
   "version": "3.7.4"
  }
 },
 "nbformat": 4,
 "nbformat_minor": 2
}
