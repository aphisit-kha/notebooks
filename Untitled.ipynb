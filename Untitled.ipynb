{
 "cells": [
  {
   "cell_type": "code",
   "execution_count": 5,
   "metadata": {},
   "outputs": [
    {
     "name": "stdout",
     "output_type": "stream",
     "text": [
      "a 1\n",
      "b 2\n",
      "c 3\n"
     ]
    }
   ],
   "source": [
    "datas = [\n",
    "    {'a': 1, 'b': 2, 'c': 3}\n",
    "]\n",
    "for data in datas:\n",
    "    for key, value in data.items():\n",
    "        print(key, value)"
   ]
  },
  {
   "cell_type": "code",
   "execution_count": 5,
   "metadata": {},
   "outputs": [
    {
     "name": "stdout",
     "output_type": "stream",
     "text": [
      "ค่าธรรมเนียมประเมิณ\n",
      "ค่าอากรแสตมป์\n",
      "ค่าธรรมเนียมโอนกรรมสิทธิ์\n"
     ]
    }
   ],
   "source": [
    "datas = [\n",
    "    {\n",
    "        \"id\": 1054,\n",
    "        \"payfor\": 1,\n",
    "        \"payfor_name\": {\n",
    "            \"id\": 1,\n",
    "            \"payfor_type_name\": \"อื่นๆ\",\n",
    "            \"vat_status_name\": \"ออกใบกำกับ\",\n",
    "            \"payfor_code\": \"5001\",\n",
    "            \"payfor_name\": \"ค่าธรรมเนียมประเมิณ\",\n",
    "            \"payfor_type\": \"5\",\n",
    "            \"vat_status\": \"Y\",\n",
    "            \"status\": \"A\",\n",
    "            \"slug\": \"5001\"\n",
    "        },\n",
    "        \"payfor_type\": \"5\",\n",
    "        \"payfor_type_name\": \"อื่นๆ\",\n",
    "        \"vat_status\": \"Y\",\n",
    "        \"vat_status_name\": \"ออกใบกำกับ\",\n",
    "        \"amount\": 7000.0,\n",
    "        \"slug\": \"202082611494953415\"\n",
    "    },\n",
    "    {\n",
    "        \"id\": 1055,\n",
    "        \"payfor\": 2,\n",
    "        \"payfor_name\": {\n",
    "            \"id\": 2,\n",
    "            \"payfor_type_name\": \"อื่นๆ\",\n",
    "            \"vat_status_name\": \"ไม่ออกใบกำกับ\",\n",
    "            \"payfor_code\": \"5002\",\n",
    "            \"payfor_name\": \"ค่าอากรแสตมป์\",\n",
    "            \"payfor_type\": \"5\",\n",
    "            \"vat_status\": \"N\",\n",
    "            \"status\": \"A\",\n",
    "            \"slug\": \"5002\"\n",
    "        },\n",
    "        \"payfor_type\": \"5\",\n",
    "        \"payfor_type_name\": \"อื่นๆ\",\n",
    "        \"vat_status\": \"N\",\n",
    "        \"vat_status_name\": \"ไม่ออกใบกำกับ\",\n",
    "        \"amount\": 295.0,\n",
    "        \"slug\": \"20208261150506802\"\n",
    "    },\n",
    "    {\n",
    "        \"id\": 1056,\n",
    "        \"payfor\": 3,\n",
    "        \"payfor_name\": {\n",
    "            \"id\": 3,\n",
    "            \"payfor_type_name\": \"อื่นๆ\",\n",
    "            \"vat_status_name\": \"ออกใบกำกับ\",\n",
    "            \"payfor_code\": \"5003\",\n",
    "            \"payfor_name\": \"ค่าธรรมเนียมโอนกรรมสิทธิ์\",\n",
    "            \"payfor_type\": \"5\",\n",
    "            \"vat_status\": \"Y\",\n",
    "            \"status\": \"A\",\n",
    "            \"slug\": \"5003\"\n",
    "        },\n",
    "        \"payfor_type\": \"5\",\n",
    "        \"payfor_type_name\": \"อื่นๆ\",\n",
    "        \"vat_status\": \"Y\",\n",
    "        \"vat_status_name\": \"ออกใบกำกับ\",\n",
    "        \"amount\": 300.0,\n",
    "        \"slug\": \"202082611505013934\"\n",
    "    }\n",
    "]\n",
    "\n",
    "for item in datas:\n",
    "    print(item['payfor_name']['payfor_name'])"
   ]
  },
  {
   "cell_type": "code",
   "execution_count": 3,
   "metadata": {},
   "outputs": [
    {
     "name": "stdout",
     "output_type": "stream",
     "text": [
      "2020-08-28\n",
      "2020-08-01\n",
      "2020-08-31\n"
     ]
    }
   ],
   "source": [
    "from datetime import datetime, date\n",
    "import calendar\n",
    "\n",
    "today = date.today()\n",
    "date_from = today.replace(day = 1)\n",
    "date_to = today.replace(day = calendar.monthrange(today.year, today.month)[1])\n",
    "print(today)\n",
    "print(date_from)\n",
    "print(date_to)"
   ]
  },
  {
   "cell_type": "code",
   "execution_count": 7,
   "metadata": {},
   "outputs": [
    {
     "name": "stdout",
     "output_type": "stream",
     "text": [
      "contract_document/01LE-200900002/201030113741567074.pdf\n"
     ]
    }
   ],
   "source": [
    "from datetime import datetime\n",
    "\n",
    "def contract_document_path(cont_no, filename):\n",
    "    ext = filename.split('.')[-1]\n",
    "    now = datetime.now()\n",
    "    datetime_str = now.strftime(\"%y%m%d%H%M%S%f\")\n",
    "    filename = \"%s.%s\" % (datetime_str, ext)\n",
    "    return 'contract_document/{0}/{1}'.format(cont_no, filename)\n",
    "\n",
    "newfilename = contract_document_path('01LE-200900002', 'asfgasdf.pdf')\n",
    "print(newfilename)"
   ]
  },
  {
   "cell_type": "code",
   "execution_count": 3,
   "metadata": {},
   "outputs": [
    {
     "name": "stdout",
     "output_type": "stream",
     "text": [
      "1\n"
     ]
    }
   ],
   "source": [
    "cust_code = '300001'\n",
    "print(int(cust_code[2:8]))"
   ]
  },
  {
   "cell_type": "code",
   "execution_count": 2,
   "metadata": {},
   "outputs": [
    {
     "name": "stdout",
     "output_type": "stream",
     "text": [
      "b'Python Programming'\n"
     ]
    }
   ],
   "source": [
    "title = 'Python Programming'\n",
    "\n",
    "# change encoding to utf-8\n",
    "print(title.encode())"
   ]
  },
  {
   "cell_type": "code",
   "execution_count": 3,
   "metadata": {},
   "outputs": [
    {
     "ename": "ModuleNotFoundError",
     "evalue": "No module named 'simplecrypt'",
     "output_type": "error",
     "traceback": [
      "\u001b[1;31m---------------------------------------------------------------------------\u001b[0m",
      "\u001b[1;31mModuleNotFoundError\u001b[0m                       Traceback (most recent call last)",
      "\u001b[1;32m<ipython-input-3-dbdb8a97b68d>\u001b[0m in \u001b[0;36m<module>\u001b[1;34m\u001b[0m\n\u001b[1;32m----> 1\u001b[1;33m \u001b[1;32mfrom\u001b[0m \u001b[0msimplecrypt\u001b[0m \u001b[1;32mimport\u001b[0m \u001b[0mencrypt\u001b[0m\u001b[1;33m,\u001b[0m \u001b[0mdecrypt\u001b[0m\u001b[1;33m\u001b[0m\u001b[1;33m\u001b[0m\u001b[0m\n\u001b[0m\u001b[0;32m      2\u001b[0m \u001b[0mpasskey\u001b[0m \u001b[1;33m=\u001b[0m \u001b[1;34m'wow'\u001b[0m\u001b[1;33m\u001b[0m\u001b[1;33m\u001b[0m\u001b[0m\n\u001b[0;32m      3\u001b[0m \u001b[0mstr1\u001b[0m \u001b[1;33m=\u001b[0m \u001b[1;34m'I am okay'\u001b[0m\u001b[1;33m\u001b[0m\u001b[1;33m\u001b[0m\u001b[0m\n\u001b[0;32m      4\u001b[0m \u001b[0mcipher\u001b[0m \u001b[1;33m=\u001b[0m \u001b[0mencrypt\u001b[0m\u001b[1;33m(\u001b[0m\u001b[0mpasskey\u001b[0m\u001b[1;33m,\u001b[0m \u001b[0mstr1\u001b[0m\u001b[1;33m)\u001b[0m\u001b[1;33m\u001b[0m\u001b[1;33m\u001b[0m\u001b[0m\n\u001b[0;32m      5\u001b[0m \u001b[0mprint\u001b[0m\u001b[1;33m(\u001b[0m\u001b[0mcipher\u001b[0m\u001b[1;33m)\u001b[0m\u001b[1;33m\u001b[0m\u001b[1;33m\u001b[0m\u001b[0m\n",
      "\u001b[1;31mModuleNotFoundError\u001b[0m: No module named 'simplecrypt'"
     ]
    }
   ],
   "source": [
    "from simplecrypt import encrypt, decrypt\n",
    "passkey = 'wow'\n",
    "str1 = 'I am okay'\n",
    "cipher = encrypt(passkey, str1)\n",
    "print(cipher)"
   ]
  },
  {
   "cell_type": "code",
   "execution_count": 4,
   "metadata": {},
   "outputs": [
    {
     "name": "stdout",
     "output_type": "stream",
     "text": [
      "Collecting simple-crypt\n",
      "  Downloading https://files.pythonhosted.org/packages/60/66/5bf6feb073f715a61492f8a6d444ad3d884ada71af317ce7a9c80bebee60/simple-crypt-4.1.7.tar.gz\n",
      "Requirement already satisfied: pycrypto in c:\\users\\khaithong\\anaconda3\\lib\\site-packages (from simple-crypt) (2.6.1)\n",
      "Building wheels for collected packages: simple-crypt\n",
      "  Building wheel for simple-crypt (setup.py): started\n",
      "  Building wheel for simple-crypt (setup.py): finished with status 'done'\n",
      "  Created wheel for simple-crypt: filename=simple_crypt-4.1.7-cp37-none-any.whl size=8939 sha256=221225c249011c028e175c5eb44c2e2e1d4dbfb0aec5f25bb17b7b98f86c794a\n",
      "  Stored in directory: C:\\Users\\Khaithong\\AppData\\Local\\pip\\Cache\\wheels\\bc\\d1\\70\\66b145ca518309e38a0dd41b9b1f3322e65f67c60fa499cade\n",
      "Successfully built simple-crypt\n",
      "Installing collected packages: simple-crypt\n",
      "Successfully installed simple-crypt-4.1.7\n"
     ]
    }
   ],
   "source": [
    "!pip install simple-crypt"
   ]
  },
  {
   "cell_type": "code",
   "execution_count": 5,
   "metadata": {},
   "outputs": [
    {
     "name": "stdout",
     "output_type": "stream",
     "text": [
      "b\"sc\\x00\\x02\\x84/\\x1ct\\x98\\xc2=\\xd1ua{\\xf2\\xa5\\xe4!-y|\\xe6\\x99\\xd9@X)\\x86\\x92lp\\xcfF\\r08\\x084\\xe0\\xa9\\x8f\\x104\\x1c\\x89#\\x0f\\x10n\\xc1\\xc9D\\xd6\\xd8\\x8d\\x86V\\x04'\\x04\\x9b\\xe8\\xc3\\x00\\xd4[\\xff\\xb2F\\xc7f\\x99\\xce8\\x1d\\x14\"\n"
     ]
    }
   ],
   "source": [
    "from simplecrypt import encrypt, decrypt\n",
    "passkey = 'wow'\n",
    "str1 = 'I am okay'\n",
    "cipher = encrypt(passkey, str1)\n",
    "print(cipher)"
   ]
  },
  {
   "cell_type": "code",
   "execution_count": 3,
   "metadata": {},
   "outputs": [
    {
     "name": "stdout",
     "output_type": "stream",
     "text": [
      "1505.2\n"
     ]
    }
   ],
   "source": [
    "a = round(1505.205, 2)\n",
    "print(a)"
   ]
  },
  {
   "cell_type": "code",
   "execution_count": 11,
   "metadata": {},
   "outputs": [
    {
     "name": "stdout",
     "output_type": "stream",
     "text": [
      "2.605 2.61\n",
      "2.615 2.62\n",
      "2.625 2.63\n",
      "2.635 2.64\n",
      "2.645 2.65\n",
      "2.655 2.66\n",
      "2.665 2.67\n",
      "2.675 2.68\n",
      "2.685 2.69\n",
      "2.695 2.7\n"
     ]
    }
   ],
   "source": [
    "print(2.605, round(2.605+0.0005, 2))\n",
    "print(2.615, round(2.615+0.0005, 2))\n",
    "print(2.625, round(2.625+0.0005, 2))\n",
    "print(2.635, round(2.635+0.0005, 2))\n",
    "print(2.645, round(2.645+0.0005, 2))\n",
    "print(2.655, round(2.655+0.0005, 2))\n",
    "print(2.665, round(2.665+0.0005, 2))\n",
    "print(2.675, round(2.675+0.0005, 2))\n",
    "print(2.685, round(2.685+0.0005, 2))\n",
    "print(2.695, round(2.695+0.0005, 2))"
   ]
  },
  {
   "cell_type": "code",
   "execution_count": 12,
   "metadata": {},
   "outputs": [
    {
     "name": "stdout",
     "output_type": "stream",
     "text": [
      "2.605 2.6\n",
      "2.615 2.61\n",
      "2.625 2.62\n",
      "2.635 2.63\n",
      "2.645 2.64\n",
      "2.655 2.65\n",
      "2.665 2.66\n",
      "2.675 2.67\n",
      "2.685 2.68\n",
      "2.695 2.69\n"
     ]
    }
   ],
   "source": [
    "print(2.605, round(2.604+0.0005, 2))\n",
    "print(2.615, round(2.614+0.0005, 2))\n",
    "print(2.625, round(2.624+0.0005, 2))\n",
    "print(2.635, round(2.634+0.0005, 2))\n",
    "print(2.645, round(2.644+0.0005, 2))\n",
    "print(2.655, round(2.654+0.0005, 2))\n",
    "print(2.665, round(2.664+0.0005, 2))\n",
    "print(2.675, round(2.674+0.0005, 2))\n",
    "print(2.685, round(2.684+0.0005, 2))\n",
    "print(2.695, round(2.694+0.0005, 2))"
   ]
  },
  {
   "cell_type": "code",
   "execution_count": 5,
   "metadata": {},
   "outputs": [
    {
     "name": "stdout",
     "output_type": "stream",
     "text": [
      "D:\\Document\\new_loan\\Script_SQL_NewLoan_phase2\\Production\\ระบบเช่าซื้อ\n"
     ]
    }
   ],
   "source": [
    "import glob\n",
    "path = \"D:\\\\Document\\\\new_loan\\\\Script_SQL_NewLoan_phase2\\\\Production\\\\ระบบเช่าซื้อ\"\n",
    "print(path)\n",
    "for files in glob.glob(path + '/*[0-9].*'):\n",
    "    print(files)"
   ]
  },
  {
   "cell_type": "code",
   "execution_count": 15,
   "metadata": {},
   "outputs": [
    {
     "data": {
      "text/html": [
       "<div>\n",
       "<style scoped>\n",
       "    .dataframe tbody tr th:only-of-type {\n",
       "        vertical-align: middle;\n",
       "    }\n",
       "\n",
       "    .dataframe tbody tr th {\n",
       "        vertical-align: top;\n",
       "    }\n",
       "\n",
       "    .dataframe thead th {\n",
       "        text-align: right;\n",
       "    }\n",
       "</style>\n",
       "<table border=\"1\" class=\"dataframe\">\n",
       "  <thead>\n",
       "    <tr style=\"text-align: right;\">\n",
       "      <th></th>\n",
       "      <th>invoice_amount</th>\n",
       "    </tr>\n",
       "    <tr>\n",
       "      <th>account_no</th>\n",
       "      <th></th>\n",
       "    </tr>\n",
       "  </thead>\n",
       "  <tbody>\n",
       "    <tr>\n",
       "      <td>0001</td>\n",
       "      <td>15500.0</td>\n",
       "    </tr>\n",
       "    <tr>\n",
       "      <td>0002</td>\n",
       "      <td>1500.0</td>\n",
       "    </tr>\n",
       "    <tr>\n",
       "      <td>0003</td>\n",
       "      <td>1000.0</td>\n",
       "    </tr>\n",
       "    <tr>\n",
       "      <td>0004</td>\n",
       "      <td>5000.0</td>\n",
       "    </tr>\n",
       "    <tr>\n",
       "      <td>0005</td>\n",
       "      <td>1500.0</td>\n",
       "    </tr>\n",
       "  </tbody>\n",
       "</table>\n",
       "</div>"
      ],
      "text/plain": [
       "            invoice_amount\n",
       "account_no                \n",
       "0001               15500.0\n",
       "0002                1500.0\n",
       "0003                1000.0\n",
       "0004                5000.0\n",
       "0005                1500.0"
      ]
     },
     "execution_count": 15,
     "metadata": {},
     "output_type": "execute_result"
    }
   ],
   "source": [
    "import pandas\n",
    "data = pandas.DataFrame([\n",
    "    {'invoice_no': 'INX000001', 'invoice_date': '2022-09-16', 'member_group': 'Lotus', 'member_name': 'Lutus ใช้ก่อนจ่ายทีหลัง xxx', 'account_no': '0001', \n",
    "     'customer_name': 'ร้านแสงชัย เสาปูน ', 'status_name': 'Active', 'invoice_amount': 10000.00, 'slug': '2022103128825141'}, \n",
    "    {'invoice_no': 'INX000002', 'invoice_date': '2022-09-16', 'member_group': 'Lotus', 'member_name': 'Lutus ใช้ก่อนจ่ายทีหลัง xxx', 'account_no': '0001', \n",
    "     'customer_name': 'ร้านแสงชัย เสาปูน ', 'status_name': 'Active', 'invoice_amount': 1000.00, 'slug': '2022103128825146'}, \n",
    "    {'invoice_no': 'INX000003', 'invoice_date': '2022-09-16', 'member_group': 'Lotus', 'member_name': 'Lutus ใช้ก่อนจ่ายทีหลัง xxx', 'account_no': '0001', \n",
    "     'customer_name': 'ร้านแสงชัย เสาปูน ', 'status_name': 'Active', 'invoice_amount': 2000.00, 'slug': '2022103128825150'}, \n",
    "    {'invoice_no': 'INX000004', 'invoice_date': '2022-09-16', 'member_group': 'Lotus', 'member_name': 'Lutus ใช้ก่อนจ่ายทีหลัง xxx', 'account_no': '0001', \n",
    "     'customer_name': 'ร้านแสงชัย เสาปูน ', 'status_name': 'Active', 'invoice_amount': 2500.00, 'slug': '2022103128825154'}, \n",
    "    {'invoice_no': 'CN202209001', 'invoice_date': '2022-09-16', 'member_group': 'Makro', 'member_name': 'makro buddy credit 50,000 - 100,000', 'account_no': '0002', \n",
    "     'customer_name': 'บจก.เอ็มเฟลกซ์ แฟคทอรี จำกัด', 'status_name': 'Active', 'invoice_amount': 1500.00, 'slug': '2022103128825158'}, \n",
    "    {'invoice_no': 'C0021353', 'invoice_date': '2022-09-23', 'member_group': 'Lotus', 'member_name': 'Lutus ใช้ก่อนจ่ายทีหลัง xxx', 'account_no': '0003', \n",
    "     'customer_name': 'บจก.เมธาบารมีอนันต์ จำกัด', 'status_name': 'Active', 'invoice_amount': 1000.00, 'slug': '2022103128825164'}, \n",
    "    {'invoice_no': 'AC456000014', 'invoice_date': '2022-09-23', 'member_group': 'Makro', 'member_name': 'makro buddy credit 10,000 - 50,000', 'account_no': '0004', \n",
    "     'customer_name': 'ร้านส.ทวีค้าเหล็ก บ.สมบูรณ์ ', 'status_name': 'Active', 'invoice_amount': 1000.00, 'slug': '2022103128825169'}, \n",
    "    {'invoice_no': 'SJ00001002', 'invoice_date': '2022-09-27', 'member_group': 'Makro', 'member_name': 'makro buddy credit 10,000 - 50,000', 'account_no': '0005', \n",
    "     'customer_name': 'ร้านแสงชัย เสาปูน ', 'status_name': 'Active', 'invoice_amount': 1500.00, 'slug': '2022103128825175'}, \n",
    "    {'invoice_no': 'DL100000122', 'invoice_date': '2022-09-29', 'member_group': 'Makro', 'member_name': 'makro buddy credit 10,000 - 50,000', 'account_no': '0004', \n",
    "     'customer_name': 'ร้านส.ทวีค้าเหล็ก บ.สมบูรณ์ ', 'status_name': 'Active', 'invoice_amount': 1000.00, 'slug': '2022103128825180'}, \n",
    "    {'invoice_no': 'DL100000123', 'invoice_date': '2022-09-29', 'member_group': 'Makro', 'member_name': 'makro buddy credit 10,000 - 50,000', 'account_no': '0004', \n",
    "     'customer_name': 'ร้านส.ทวีค้าเหล็ก บ.สมบูรณ์ ', 'status_name': 'Active', 'invoice_amount': 1000.00, 'slug': '2022103128825186'}, \n",
    "    {'invoice_no': 'DL100000124', 'invoice_date': '2022-09-29', 'member_group': 'Makro', 'member_name': 'makro buddy credit 10,000 - 50,000', 'account_no': '0004', \n",
    "     'customer_name': 'ร้านส.ทวีค้าเหล็ก บ.สมบูรณ์ ', 'status_name': 'Active', 'invoice_amount': 2000.00, 'slug': '2022103128825194'}])\n",
    "data.groupby(['account_no']).sum()"
   ]
  },
  {
   "cell_type": "code",
   "execution_count": 88,
   "metadata": {},
   "outputs": [
    {
     "name": "stdout",
     "output_type": "stream",
     "text": [
      "0001 15500.0\n",
      "0002 1500.0\n",
      "0003 1000.0\n",
      "0004 5000.0\n",
      "0005 1500.0\n"
     ]
    }
   ],
   "source": [
    "import pandas\n",
    "data1 = [{'invoice_no': 'INX000001', 'invoice_date': '2022-09-16', 'member_group': 'Lotus', 'member_name': 'Lutus ใช้ก่อนจ่ายทีหลัง xxx', 'account_no': '0001', 'customer_name': 'ร้านแสงชัย เสาปูน ', 'status_name': 'Active', 'invoice_amount': '10000.00', 'slug': '2022103128825141'}, {'invoice_no': 'INX000002', 'invoice_date': '2022-09-16', 'member_group': 'Lotus', 'member_name': 'Lutus ใช้ก่อนจ่ายทีหลัง xxx', 'account_no': '0001', 'customer_name': 'ร้านแสงชัย เสาปูน ', 'status_name': 'Active', 'invoice_amount': '1000.00', 'slug': '2022103128825146'}, {'invoice_no': 'INX000003', 'invoice_date': '2022-09-16', 'member_group': 'Lotus', 'member_name': 'Lutus ใช้ก่อนจ่ายทีหลัง xxx', 'account_no': '0001', 'customer_name': 'ร้านแสงชัย เสาปูน ', 'status_name': 'Active', 'invoice_amount': '2000.00', 'slug': '2022103128825150'}, {'invoice_no': 'INX000004', 'invoice_date': '2022-09-16', 'member_group': 'Lotus', 'member_name': 'Lutus ใช้ก่อนจ่ายทีหลัง xxx', 'account_no': '0001', 'customer_name': 'ร้านแสงชัย เสาปูน ', 'status_name': 'Active', 'invoice_amount': '2500.00', 'slug': '2022103128825154'}, {'invoice_no': 'CN202209001', 'invoice_date': '2022-09-16', 'member_group': 'Makro', 'member_name': 'makro buddy credit 50,000 - 100,000', 'account_no': '0002', 'customer_name': 'บจก.เอ็มเฟลกซ์ แฟคทอรี จำกัด', 'status_name': 'Active', 'invoice_amount': '1500.00', 'slug': '2022103128825158'}, {'invoice_no': 'C0021353', 'invoice_date': '2022-09-23', 'member_group': 'Lotus', 'member_name': 'Lutus ใช้ก่อนจ่ายทีหลัง xxx', 'account_no': '0003', 'customer_name': 'บจก.เมธาบารมีอนันต์ จำกัด', 'status_name': 'Active', 'invoice_amount': '1000.00', 'slug': '2022103128825164'}, {'invoice_no': 'AC456000014', 'invoice_date': '2022-09-23', 'member_group': 'Makro', 'member_name': 'makro buddy credit 10,000 - 50,000', 'account_no': '0004', 'customer_name': 'ร้านส.ทวีค้าเหล็ก บ.สมบูรณ์ ', 'status_name': 'Active', 'invoice_amount': '1000.00', 'slug': '2022103128825169'}, {'invoice_no': 'SJ00001002', 'invoice_date': '2022-09-27', 'member_group': 'Makro', 'member_name': 'makro buddy credit 10,000 - 50,000', 'account_no': '0005', 'customer_name': 'ร้านแสงชัย เสาปูน ', 'status_name': 'Active', 'invoice_amount': '1500.00', 'slug': '2022103128825175'}, {'invoice_no': 'DL100000122', 'invoice_date': '2022-09-29', 'member_group': 'Makro', 'member_name': 'makro buddy credit 10,000 - 50,000', 'account_no': '0004', 'customer_name': 'ร้านส.ทวีค้าเหล็ก บ.สมบูรณ์ ', 'status_name': 'Active', 'invoice_amount': '1000.00', 'slug': '2022103128825180'}, {'invoice_no': 'DL100000123', 'invoice_date': '2022-09-29', 'member_group': 'Makro', 'member_name': 'makro buddy credit 10,000 - 50,000', 'account_no': '0004', 'customer_name': 'ร้านส.ทวีค้าเหล็ก บ.สมบูรณ์ ', 'status_name': 'Active', 'invoice_amount': '1000.00', 'slug': '2022103128825186'}, {'invoice_no': 'DL100000124', 'invoice_date': '2022-09-29', 'member_group': 'Makro', 'member_name': 'makro buddy credit 10,000 - 50,000', 'account_no': '0004', 'customer_name': 'ร้านส.ทวีค้าเหล็ก บ.สมบูรณ์ ', 'status_name': 'Active', 'invoice_amount': '2000.00', 'slug': '2022103128825194'}]\n",
    "data2 = list()\n",
    "for foo in data1:\n",
    "    foo['invoice_amount'] = float(foo['invoice_amount'])\n",
    "    data2.append(foo)\n",
    "df = pandas.DataFrame(data2)\n",
    "# df.groupby(['account_no']).sum()\n",
    "\n",
    "g = df.groupby(['account_no'])\n",
    "for account_no, account_no_df in g:\n",
    "    sum_inv = account_no_df.sum()\n",
    "    print(account_no, sum_inv['invoice_amount'])\n",
    "# g.get_group('0002').sum()"
   ]
  },
  {
   "cell_type": "code",
   "execution_count": 4,
   "metadata": {},
   "outputs": [
    {
     "name": "stdout",
     "output_type": "stream",
     "text": [
      "2022-10-05 11:52:46.457440\n"
     ]
    }
   ],
   "source": [
    "from datetime import datetime, date\n",
    "print(datetime.now())"
   ]
  },
  {
   "cell_type": "code",
   "execution_count": 27,
   "metadata": {},
   "outputs": [
    {
     "name": "stdout",
     "output_type": "stream",
     "text": [
      "1,2\n",
      "('M',)\n",
      "'M'\n"
     ]
    }
   ],
   "source": [
    "my_tuple = (1, 2)\n",
    "\n",
    "my_str = ','.join(str(item) for item in my_tuple)\n",
    "print(my_str)\n",
    "\n",
    "my_tuple = tuple(['M'])\n",
    "print(my_tuple)\n",
    "my_str = ','.join(\"'\"+str(item)+\"'\" for item in my_tuple)\n",
    "print(my_str)"
   ]
  },
  {
   "cell_type": "code",
   "execution_count": 17,
   "metadata": {},
   "outputs": [
    {
     "name": "stdout",
     "output_type": "stream",
     "text": [
      "1.5\n"
     ]
    }
   ],
   "source": [
    "import math\n",
    "\n",
    "\n",
    "hour_rent = 24.5\n",
    "# จำนวนวันที่เช่า\n",
    "if hour_rent <= 24:\n",
    "    day_rent = 1\n",
    "else:\n",
    "    day_rent = math.trunc(hour_rent/24)\n",
    "    if (hour_rent - math.trunc(hour_rent)) >= 0.5:\n",
    "        day_rent = day_rent + 0.5\n",
    "\n",
    "\n",
    "print(day_rent)"
   ]
  },
  {
   "cell_type": "code",
   "execution_count": null,
   "metadata": {},
   "outputs": [],
   "source": []
  }
 ],
 "metadata": {
  "kernelspec": {
   "display_name": "Python 3",
   "language": "python",
   "name": "python3"
  },
  "language_info": {
   "codemirror_mode": {
    "name": "ipython",
    "version": 3
   },
   "file_extension": ".py",
   "mimetype": "text/x-python",
   "name": "python",
   "nbconvert_exporter": "python",
   "pygments_lexer": "ipython3",
   "version": "3.7.4"
  }
 },
 "nbformat": 4,
 "nbformat_minor": 2
}
