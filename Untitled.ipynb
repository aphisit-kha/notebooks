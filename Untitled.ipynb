{
 "cells": [
  {
   "cell_type": "code",
   "execution_count": 5,
   "metadata": {},
   "outputs": [
    {
     "name": "stdout",
     "output_type": "stream",
     "text": [
      "a 1\n",
      "b 2\n",
      "c 3\n"
     ]
    }
   ],
   "source": [
    "datas = [\n",
    "    {'a': 1, 'b': 2, 'c': 3}\n",
    "]\n",
    "for data in datas:\n",
    "    for key, value in data.items():\n",
    "        print(key, value)"
   ]
  },
  {
   "cell_type": "code",
   "execution_count": 5,
   "metadata": {},
   "outputs": [
    {
     "name": "stdout",
     "output_type": "stream",
     "text": [
      "ค่าธรรมเนียมประเมิณ\n",
      "ค่าอากรแสตมป์\n",
      "ค่าธรรมเนียมโอนกรรมสิทธิ์\n"
     ]
    }
   ],
   "source": [
    "datas = [\n",
    "    {\n",
    "        \"id\": 1054,\n",
    "        \"payfor\": 1,\n",
    "        \"payfor_name\": {\n",
    "            \"id\": 1,\n",
    "            \"payfor_type_name\": \"อื่นๆ\",\n",
    "            \"vat_status_name\": \"ออกใบกำกับ\",\n",
    "            \"payfor_code\": \"5001\",\n",
    "            \"payfor_name\": \"ค่าธรรมเนียมประเมิณ\",\n",
    "            \"payfor_type\": \"5\",\n",
    "            \"vat_status\": \"Y\",\n",
    "            \"status\": \"A\",\n",
    "            \"slug\": \"5001\"\n",
    "        },\n",
    "        \"payfor_type\": \"5\",\n",
    "        \"payfor_type_name\": \"อื่นๆ\",\n",
    "        \"vat_status\": \"Y\",\n",
    "        \"vat_status_name\": \"ออกใบกำกับ\",\n",
    "        \"amount\": 7000.0,\n",
    "        \"slug\": \"202082611494953415\"\n",
    "    },\n",
    "    {\n",
    "        \"id\": 1055,\n",
    "        \"payfor\": 2,\n",
    "        \"payfor_name\": {\n",
    "            \"id\": 2,\n",
    "            \"payfor_type_name\": \"อื่นๆ\",\n",
    "            \"vat_status_name\": \"ไม่ออกใบกำกับ\",\n",
    "            \"payfor_code\": \"5002\",\n",
    "            \"payfor_name\": \"ค่าอากรแสตมป์\",\n",
    "            \"payfor_type\": \"5\",\n",
    "            \"vat_status\": \"N\",\n",
    "            \"status\": \"A\",\n",
    "            \"slug\": \"5002\"\n",
    "        },\n",
    "        \"payfor_type\": \"5\",\n",
    "        \"payfor_type_name\": \"อื่นๆ\",\n",
    "        \"vat_status\": \"N\",\n",
    "        \"vat_status_name\": \"ไม่ออกใบกำกับ\",\n",
    "        \"amount\": 295.0,\n",
    "        \"slug\": \"20208261150506802\"\n",
    "    },\n",
    "    {\n",
    "        \"id\": 1056,\n",
    "        \"payfor\": 3,\n",
    "        \"payfor_name\": {\n",
    "            \"id\": 3,\n",
    "            \"payfor_type_name\": \"อื่นๆ\",\n",
    "            \"vat_status_name\": \"ออกใบกำกับ\",\n",
    "            \"payfor_code\": \"5003\",\n",
    "            \"payfor_name\": \"ค่าธรรมเนียมโอนกรรมสิทธิ์\",\n",
    "            \"payfor_type\": \"5\",\n",
    "            \"vat_status\": \"Y\",\n",
    "            \"status\": \"A\",\n",
    "            \"slug\": \"5003\"\n",
    "        },\n",
    "        \"payfor_type\": \"5\",\n",
    "        \"payfor_type_name\": \"อื่นๆ\",\n",
    "        \"vat_status\": \"Y\",\n",
    "        \"vat_status_name\": \"ออกใบกำกับ\",\n",
    "        \"amount\": 300.0,\n",
    "        \"slug\": \"202082611505013934\"\n",
    "    }\n",
    "]\n",
    "\n",
    "for item in datas:\n",
    "    print(item['payfor_name']['payfor_name'])"
   ]
  },
  {
   "cell_type": "code",
   "execution_count": 3,
   "metadata": {},
   "outputs": [
    {
     "name": "stdout",
     "output_type": "stream",
     "text": [
      "2020-08-28\n",
      "2020-08-01\n",
      "2020-08-31\n"
     ]
    }
   ],
   "source": [
    "from datetime import datetime, date\n",
    "import calendar\n",
    "\n",
    "today = date.today()\n",
    "date_from = today.replace(day = 1)\n",
    "date_to = today.replace(day = calendar.monthrange(today.year, today.month)[1])\n",
    "print(today)\n",
    "print(date_from)\n",
    "print(date_to)"
   ]
  },
  {
   "cell_type": "code",
   "execution_count": 7,
   "metadata": {},
   "outputs": [
    {
     "name": "stdout",
     "output_type": "stream",
     "text": [
      "contract_document/01LE-200900002/201030113741567074.pdf\n"
     ]
    }
   ],
   "source": [
    "from datetime import datetime\n",
    "\n",
    "def contract_document_path(cont_no, filename):\n",
    "    ext = filename.split('.')[-1]\n",
    "    now = datetime.now()\n",
    "    datetime_str = now.strftime(\"%y%m%d%H%M%S%f\")\n",
    "    filename = \"%s.%s\" % (datetime_str, ext)\n",
    "    return 'contract_document/{0}/{1}'.format(cont_no, filename)\n",
    "\n",
    "newfilename = contract_document_path('01LE-200900002', 'asfgasdf.pdf')\n",
    "print(newfilename)"
   ]
  },
  {
   "cell_type": "code",
   "execution_count": 3,
   "metadata": {},
   "outputs": [
    {
     "name": "stdout",
     "output_type": "stream",
     "text": [
      "1\n"
     ]
    }
   ],
   "source": [
    "cust_code = '300001'\n",
    "print(int(cust_code[2:8]))"
   ]
  },
  {
   "cell_type": "code",
   "execution_count": 2,
   "metadata": {},
   "outputs": [
    {
     "name": "stdout",
     "output_type": "stream",
     "text": [
      "b'Python Programming'\n"
     ]
    }
   ],
   "source": [
    "title = 'Python Programming'\n",
    "\n",
    "# change encoding to utf-8\n",
    "print(title.encode())"
   ]
  },
  {
   "cell_type": "code",
   "execution_count": 3,
   "metadata": {},
   "outputs": [
    {
     "ename": "ModuleNotFoundError",
     "evalue": "No module named 'simplecrypt'",
     "output_type": "error",
     "traceback": [
      "\u001b[1;31m---------------------------------------------------------------------------\u001b[0m",
      "\u001b[1;31mModuleNotFoundError\u001b[0m                       Traceback (most recent call last)",
      "\u001b[1;32m<ipython-input-3-dbdb8a97b68d>\u001b[0m in \u001b[0;36m<module>\u001b[1;34m\u001b[0m\n\u001b[1;32m----> 1\u001b[1;33m \u001b[1;32mfrom\u001b[0m \u001b[0msimplecrypt\u001b[0m \u001b[1;32mimport\u001b[0m \u001b[0mencrypt\u001b[0m\u001b[1;33m,\u001b[0m \u001b[0mdecrypt\u001b[0m\u001b[1;33m\u001b[0m\u001b[1;33m\u001b[0m\u001b[0m\n\u001b[0m\u001b[0;32m      2\u001b[0m \u001b[0mpasskey\u001b[0m \u001b[1;33m=\u001b[0m \u001b[1;34m'wow'\u001b[0m\u001b[1;33m\u001b[0m\u001b[1;33m\u001b[0m\u001b[0m\n\u001b[0;32m      3\u001b[0m \u001b[0mstr1\u001b[0m \u001b[1;33m=\u001b[0m \u001b[1;34m'I am okay'\u001b[0m\u001b[1;33m\u001b[0m\u001b[1;33m\u001b[0m\u001b[0m\n\u001b[0;32m      4\u001b[0m \u001b[0mcipher\u001b[0m \u001b[1;33m=\u001b[0m \u001b[0mencrypt\u001b[0m\u001b[1;33m(\u001b[0m\u001b[0mpasskey\u001b[0m\u001b[1;33m,\u001b[0m \u001b[0mstr1\u001b[0m\u001b[1;33m)\u001b[0m\u001b[1;33m\u001b[0m\u001b[1;33m\u001b[0m\u001b[0m\n\u001b[0;32m      5\u001b[0m \u001b[0mprint\u001b[0m\u001b[1;33m(\u001b[0m\u001b[0mcipher\u001b[0m\u001b[1;33m)\u001b[0m\u001b[1;33m\u001b[0m\u001b[1;33m\u001b[0m\u001b[0m\n",
      "\u001b[1;31mModuleNotFoundError\u001b[0m: No module named 'simplecrypt'"
     ]
    }
   ],
   "source": [
    "from simplecrypt import encrypt, decrypt\n",
    "passkey = 'wow'\n",
    "str1 = 'I am okay'\n",
    "cipher = encrypt(passkey, str1)\n",
    "print(cipher)"
   ]
  },
  {
   "cell_type": "code",
   "execution_count": 4,
   "metadata": {},
   "outputs": [
    {
     "name": "stdout",
     "output_type": "stream",
     "text": [
      "Collecting simple-crypt\n",
      "  Downloading https://files.pythonhosted.org/packages/60/66/5bf6feb073f715a61492f8a6d444ad3d884ada71af317ce7a9c80bebee60/simple-crypt-4.1.7.tar.gz\n",
      "Requirement already satisfied: pycrypto in c:\\users\\khaithong\\anaconda3\\lib\\site-packages (from simple-crypt) (2.6.1)\n",
      "Building wheels for collected packages: simple-crypt\n",
      "  Building wheel for simple-crypt (setup.py): started\n",
      "  Building wheel for simple-crypt (setup.py): finished with status 'done'\n",
      "  Created wheel for simple-crypt: filename=simple_crypt-4.1.7-cp37-none-any.whl size=8939 sha256=221225c249011c028e175c5eb44c2e2e1d4dbfb0aec5f25bb17b7b98f86c794a\n",
      "  Stored in directory: C:\\Users\\Khaithong\\AppData\\Local\\pip\\Cache\\wheels\\bc\\d1\\70\\66b145ca518309e38a0dd41b9b1f3322e65f67c60fa499cade\n",
      "Successfully built simple-crypt\n",
      "Installing collected packages: simple-crypt\n",
      "Successfully installed simple-crypt-4.1.7\n"
     ]
    }
   ],
   "source": [
    "!pip install simple-crypt"
   ]
  },
  {
   "cell_type": "code",
   "execution_count": 5,
   "metadata": {},
   "outputs": [
    {
     "name": "stdout",
     "output_type": "stream",
     "text": [
      "b\"sc\\x00\\x02\\x84/\\x1ct\\x98\\xc2=\\xd1ua{\\xf2\\xa5\\xe4!-y|\\xe6\\x99\\xd9@X)\\x86\\x92lp\\xcfF\\r08\\x084\\xe0\\xa9\\x8f\\x104\\x1c\\x89#\\x0f\\x10n\\xc1\\xc9D\\xd6\\xd8\\x8d\\x86V\\x04'\\x04\\x9b\\xe8\\xc3\\x00\\xd4[\\xff\\xb2F\\xc7f\\x99\\xce8\\x1d\\x14\"\n"
     ]
    }
   ],
   "source": [
    "from simplecrypt import encrypt, decrypt\n",
    "passkey = 'wow'\n",
    "str1 = 'I am okay'\n",
    "cipher = encrypt(passkey, str1)\n",
    "print(cipher)"
   ]
  },
  {
   "cell_type": "code",
   "execution_count": 3,
   "metadata": {},
   "outputs": [
    {
     "name": "stdout",
     "output_type": "stream",
     "text": [
      "1505.2\n"
     ]
    }
   ],
   "source": [
    "a = round(1505.205, 2)\n",
    "print(a)"
   ]
  },
  {
   "cell_type": "code",
   "execution_count": 11,
   "metadata": {},
   "outputs": [
    {
     "name": "stdout",
     "output_type": "stream",
     "text": [
      "2.605 2.61\n",
      "2.615 2.62\n",
      "2.625 2.63\n",
      "2.635 2.64\n",
      "2.645 2.65\n",
      "2.655 2.66\n",
      "2.665 2.67\n",
      "2.675 2.68\n",
      "2.685 2.69\n",
      "2.695 2.7\n"
     ]
    }
   ],
   "source": [
    "print(2.605, round(2.605+0.0005, 2))\n",
    "print(2.615, round(2.615+0.0005, 2))\n",
    "print(2.625, round(2.625+0.0005, 2))\n",
    "print(2.635, round(2.635+0.0005, 2))\n",
    "print(2.645, round(2.645+0.0005, 2))\n",
    "print(2.655, round(2.655+0.0005, 2))\n",
    "print(2.665, round(2.665+0.0005, 2))\n",
    "print(2.675, round(2.675+0.0005, 2))\n",
    "print(2.685, round(2.685+0.0005, 2))\n",
    "print(2.695, round(2.695+0.0005, 2))"
   ]
  },
  {
   "cell_type": "code",
   "execution_count": 12,
   "metadata": {},
   "outputs": [
    {
     "name": "stdout",
     "output_type": "stream",
     "text": [
      "2.605 2.6\n",
      "2.615 2.61\n",
      "2.625 2.62\n",
      "2.635 2.63\n",
      "2.645 2.64\n",
      "2.655 2.65\n",
      "2.665 2.66\n",
      "2.675 2.67\n",
      "2.685 2.68\n",
      "2.695 2.69\n"
     ]
    }
   ],
   "source": [
    "print(2.605, round(2.604+0.0005, 2))\n",
    "print(2.615, round(2.614+0.0005, 2))\n",
    "print(2.625, round(2.624+0.0005, 2))\n",
    "print(2.635, round(2.634+0.0005, 2))\n",
    "print(2.645, round(2.644+0.0005, 2))\n",
    "print(2.655, round(2.654+0.0005, 2))\n",
    "print(2.665, round(2.664+0.0005, 2))\n",
    "print(2.675, round(2.674+0.0005, 2))\n",
    "print(2.685, round(2.684+0.0005, 2))\n",
    "print(2.695, round(2.694+0.0005, 2))"
   ]
  },
  {
   "cell_type": "code",
   "execution_count": 5,
   "metadata": {},
   "outputs": [
    {
     "name": "stdout",
     "output_type": "stream",
     "text": [
      "D:\\Document\\new_loan\\Script_SQL_NewLoan_phase2\\Production\\ระบบเช่าซื้อ\n"
     ]
    }
   ],
   "source": [
    "import glob\n",
    "path = \"D:\\\\Document\\\\new_loan\\\\Script_SQL_NewLoan_phase2\\\\Production\\\\ระบบเช่าซื้อ\"\n",
    "print(path)\n",
    "for files in glob.glob(path + '/*[0-9].*'):\n",
    "    print(files)"
   ]
  },
  {
   "cell_type": "code",
   "execution_count": 15,
   "metadata": {},
   "outputs": [
    {
     "data": {
      "text/html": [
       "<div>\n",
       "<style scoped>\n",
       "    .dataframe tbody tr th:only-of-type {\n",
       "        vertical-align: middle;\n",
       "    }\n",
       "\n",
       "    .dataframe tbody tr th {\n",
       "        vertical-align: top;\n",
       "    }\n",
       "\n",
       "    .dataframe thead th {\n",
       "        text-align: right;\n",
       "    }\n",
       "</style>\n",
       "<table border=\"1\" class=\"dataframe\">\n",
       "  <thead>\n",
       "    <tr style=\"text-align: right;\">\n",
       "      <th></th>\n",
       "      <th>invoice_amount</th>\n",
       "    </tr>\n",
       "    <tr>\n",
       "      <th>account_no</th>\n",
       "      <th></th>\n",
       "    </tr>\n",
       "  </thead>\n",
       "  <tbody>\n",
       "    <tr>\n",
       "      <td>0001</td>\n",
       "      <td>15500.0</td>\n",
       "    </tr>\n",
       "    <tr>\n",
       "      <td>0002</td>\n",
       "      <td>1500.0</td>\n",
       "    </tr>\n",
       "    <tr>\n",
       "      <td>0003</td>\n",
       "      <td>1000.0</td>\n",
       "    </tr>\n",
       "    <tr>\n",
       "      <td>0004</td>\n",
       "      <td>5000.0</td>\n",
       "    </tr>\n",
       "    <tr>\n",
       "      <td>0005</td>\n",
       "      <td>1500.0</td>\n",
       "    </tr>\n",
       "  </tbody>\n",
       "</table>\n",
       "</div>"
      ],
      "text/plain": [
       "            invoice_amount\n",
       "account_no                \n",
       "0001               15500.0\n",
       "0002                1500.0\n",
       "0003                1000.0\n",
       "0004                5000.0\n",
       "0005                1500.0"
      ]
     },
     "execution_count": 15,
     "metadata": {},
     "output_type": "execute_result"
    }
   ],
   "source": [
    "import pandas\n",
    "data = pandas.DataFrame([\n",
    "    {'invoice_no': 'INX000001', 'invoice_date': '2022-09-16', 'member_group': 'Lotus', 'member_name': 'Lutus ใช้ก่อนจ่ายทีหลัง xxx', 'account_no': '0001', \n",
    "     'customer_name': 'ร้านแสงชัย เสาปูน ', 'status_name': 'Active', 'invoice_amount': 10000.00, 'slug': '2022103128825141'}, \n",
    "    {'invoice_no': 'INX000002', 'invoice_date': '2022-09-16', 'member_group': 'Lotus', 'member_name': 'Lutus ใช้ก่อนจ่ายทีหลัง xxx', 'account_no': '0001', \n",
    "     'customer_name': 'ร้านแสงชัย เสาปูน ', 'status_name': 'Active', 'invoice_amount': 1000.00, 'slug': '2022103128825146'}, \n",
    "    {'invoice_no': 'INX000003', 'invoice_date': '2022-09-16', 'member_group': 'Lotus', 'member_name': 'Lutus ใช้ก่อนจ่ายทีหลัง xxx', 'account_no': '0001', \n",
    "     'customer_name': 'ร้านแสงชัย เสาปูน ', 'status_name': 'Active', 'invoice_amount': 2000.00, 'slug': '2022103128825150'}, \n",
    "    {'invoice_no': 'INX000004', 'invoice_date': '2022-09-16', 'member_group': 'Lotus', 'member_name': 'Lutus ใช้ก่อนจ่ายทีหลัง xxx', 'account_no': '0001', \n",
    "     'customer_name': 'ร้านแสงชัย เสาปูน ', 'status_name': 'Active', 'invoice_amount': 2500.00, 'slug': '2022103128825154'}, \n",
    "    {'invoice_no': 'CN202209001', 'invoice_date': '2022-09-16', 'member_group': 'Makro', 'member_name': 'makro buddy credit 50,000 - 100,000', 'account_no': '0002', \n",
    "     'customer_name': 'บจก.เอ็มเฟลกซ์ แฟคทอรี จำกัด', 'status_name': 'Active', 'invoice_amount': 1500.00, 'slug': '2022103128825158'}, \n",
    "    {'invoice_no': 'C0021353', 'invoice_date': '2022-09-23', 'member_group': 'Lotus', 'member_name': 'Lutus ใช้ก่อนจ่ายทีหลัง xxx', 'account_no': '0003', \n",
    "     'customer_name': 'บจก.เมธาบารมีอนันต์ จำกัด', 'status_name': 'Active', 'invoice_amount': 1000.00, 'slug': '2022103128825164'}, \n",
    "    {'invoice_no': 'AC456000014', 'invoice_date': '2022-09-23', 'member_group': 'Makro', 'member_name': 'makro buddy credit 10,000 - 50,000', 'account_no': '0004', \n",
    "     'customer_name': 'ร้านส.ทวีค้าเหล็ก บ.สมบูรณ์ ', 'status_name': 'Active', 'invoice_amount': 1000.00, 'slug': '2022103128825169'}, \n",
    "    {'invoice_no': 'SJ00001002', 'invoice_date': '2022-09-27', 'member_group': 'Makro', 'member_name': 'makro buddy credit 10,000 - 50,000', 'account_no': '0005', \n",
    "     'customer_name': 'ร้านแสงชัย เสาปูน ', 'status_name': 'Active', 'invoice_amount': 1500.00, 'slug': '2022103128825175'}, \n",
    "    {'invoice_no': 'DL100000122', 'invoice_date': '2022-09-29', 'member_group': 'Makro', 'member_name': 'makro buddy credit 10,000 - 50,000', 'account_no': '0004', \n",
    "     'customer_name': 'ร้านส.ทวีค้าเหล็ก บ.สมบูรณ์ ', 'status_name': 'Active', 'invoice_amount': 1000.00, 'slug': '2022103128825180'}, \n",
    "    {'invoice_no': 'DL100000123', 'invoice_date': '2022-09-29', 'member_group': 'Makro', 'member_name': 'makro buddy credit 10,000 - 50,000', 'account_no': '0004', \n",
    "     'customer_name': 'ร้านส.ทวีค้าเหล็ก บ.สมบูรณ์ ', 'status_name': 'Active', 'invoice_amount': 1000.00, 'slug': '2022103128825186'}, \n",
    "    {'invoice_no': 'DL100000124', 'invoice_date': '2022-09-29', 'member_group': 'Makro', 'member_name': 'makro buddy credit 10,000 - 50,000', 'account_no': '0004', \n",
    "     'customer_name': 'ร้านส.ทวีค้าเหล็ก บ.สมบูรณ์ ', 'status_name': 'Active', 'invoice_amount': 2000.00, 'slug': '2022103128825194'}])\n",
    "data.groupby(['account_no']).sum()"
   ]
  },
  {
   "cell_type": "code",
   "execution_count": 88,
   "metadata": {},
   "outputs": [
    {
     "name": "stdout",
     "output_type": "stream",
     "text": [
      "0001 15500.0\n",
      "0002 1500.0\n",
      "0003 1000.0\n",
      "0004 5000.0\n",
      "0005 1500.0\n"
     ]
    }
   ],
   "source": [
    "import pandas\n",
    "data1 = [{'invoice_no': 'INX000001', 'invoice_date': '2022-09-16', 'member_group': 'Lotus', 'member_name': 'Lutus ใช้ก่อนจ่ายทีหลัง xxx', 'account_no': '0001', 'customer_name': 'ร้านแสงชัย เสาปูน ', 'status_name': 'Active', 'invoice_amount': '10000.00', 'slug': '2022103128825141'}, {'invoice_no': 'INX000002', 'invoice_date': '2022-09-16', 'member_group': 'Lotus', 'member_name': 'Lutus ใช้ก่อนจ่ายทีหลัง xxx', 'account_no': '0001', 'customer_name': 'ร้านแสงชัย เสาปูน ', 'status_name': 'Active', 'invoice_amount': '1000.00', 'slug': '2022103128825146'}, {'invoice_no': 'INX000003', 'invoice_date': '2022-09-16', 'member_group': 'Lotus', 'member_name': 'Lutus ใช้ก่อนจ่ายทีหลัง xxx', 'account_no': '0001', 'customer_name': 'ร้านแสงชัย เสาปูน ', 'status_name': 'Active', 'invoice_amount': '2000.00', 'slug': '2022103128825150'}, {'invoice_no': 'INX000004', 'invoice_date': '2022-09-16', 'member_group': 'Lotus', 'member_name': 'Lutus ใช้ก่อนจ่ายทีหลัง xxx', 'account_no': '0001', 'customer_name': 'ร้านแสงชัย เสาปูน ', 'status_name': 'Active', 'invoice_amount': '2500.00', 'slug': '2022103128825154'}, {'invoice_no': 'CN202209001', 'invoice_date': '2022-09-16', 'member_group': 'Makro', 'member_name': 'makro buddy credit 50,000 - 100,000', 'account_no': '0002', 'customer_name': 'บจก.เอ็มเฟลกซ์ แฟคทอรี จำกัด', 'status_name': 'Active', 'invoice_amount': '1500.00', 'slug': '2022103128825158'}, {'invoice_no': 'C0021353', 'invoice_date': '2022-09-23', 'member_group': 'Lotus', 'member_name': 'Lutus ใช้ก่อนจ่ายทีหลัง xxx', 'account_no': '0003', 'customer_name': 'บจก.เมธาบารมีอนันต์ จำกัด', 'status_name': 'Active', 'invoice_amount': '1000.00', 'slug': '2022103128825164'}, {'invoice_no': 'AC456000014', 'invoice_date': '2022-09-23', 'member_group': 'Makro', 'member_name': 'makro buddy credit 10,000 - 50,000', 'account_no': '0004', 'customer_name': 'ร้านส.ทวีค้าเหล็ก บ.สมบูรณ์ ', 'status_name': 'Active', 'invoice_amount': '1000.00', 'slug': '2022103128825169'}, {'invoice_no': 'SJ00001002', 'invoice_date': '2022-09-27', 'member_group': 'Makro', 'member_name': 'makro buddy credit 10,000 - 50,000', 'account_no': '0005', 'customer_name': 'ร้านแสงชัย เสาปูน ', 'status_name': 'Active', 'invoice_amount': '1500.00', 'slug': '2022103128825175'}, {'invoice_no': 'DL100000122', 'invoice_date': '2022-09-29', 'member_group': 'Makro', 'member_name': 'makro buddy credit 10,000 - 50,000', 'account_no': '0004', 'customer_name': 'ร้านส.ทวีค้าเหล็ก บ.สมบูรณ์ ', 'status_name': 'Active', 'invoice_amount': '1000.00', 'slug': '2022103128825180'}, {'invoice_no': 'DL100000123', 'invoice_date': '2022-09-29', 'member_group': 'Makro', 'member_name': 'makro buddy credit 10,000 - 50,000', 'account_no': '0004', 'customer_name': 'ร้านส.ทวีค้าเหล็ก บ.สมบูรณ์ ', 'status_name': 'Active', 'invoice_amount': '1000.00', 'slug': '2022103128825186'}, {'invoice_no': 'DL100000124', 'invoice_date': '2022-09-29', 'member_group': 'Makro', 'member_name': 'makro buddy credit 10,000 - 50,000', 'account_no': '0004', 'customer_name': 'ร้านส.ทวีค้าเหล็ก บ.สมบูรณ์ ', 'status_name': 'Active', 'invoice_amount': '2000.00', 'slug': '2022103128825194'}]\n",
    "data2 = list()\n",
    "for foo in data1:\n",
    "    foo['invoice_amount'] = float(foo['invoice_amount'])\n",
    "    data2.append(foo)\n",
    "df = pandas.DataFrame(data2)\n",
    "# df.groupby(['account_no']).sum()\n",
    "\n",
    "g = df.groupby(['account_no'])\n",
    "for account_no, account_no_df in g:\n",
    "    sum_inv = account_no_df.sum()\n",
    "    print(account_no, sum_inv['invoice_amount'])\n",
    "# g.get_group('0002').sum()"
   ]
  },
  {
   "cell_type": "code",
   "execution_count": 4,
   "metadata": {},
   "outputs": [
    {
     "name": "stdout",
     "output_type": "stream",
     "text": [
      "2022-10-05 11:52:46.457440\n"
     ]
    }
   ],
   "source": [
    "from datetime import datetime, date\n",
    "print(datetime.now())"
   ]
  },
  {
   "cell_type": "code",
   "execution_count": 27,
   "metadata": {},
   "outputs": [
    {
     "name": "stdout",
     "output_type": "stream",
     "text": [
      "1,2\n",
      "('M',)\n",
      "'M'\n"
     ]
    }
   ],
   "source": [
    "my_tuple = (1, 2)\n",
    "\n",
    "my_str = ','.join(str(item) for item in my_tuple)\n",
    "print(my_str)\n",
    "\n",
    "my_tuple = tuple(['M'])\n",
    "print(my_tuple)\n",
    "my_str = ','.join(\"'\"+str(item)+\"'\" for item in my_tuple)\n",
    "print(my_str)"
   ]
  },
  {
   "cell_type": "code",
   "execution_count": 17,
   "metadata": {},
   "outputs": [
    {
     "name": "stdout",
     "output_type": "stream",
     "text": [
      "1.5\n"
     ]
    }
   ],
   "source": [
    "import math\n",
    "\n",
    "\n",
    "hour_rent = 24.5\n",
    "# จำนวนวันที่เช่า\n",
    "if hour_rent <= 24:\n",
    "    day_rent = 1\n",
    "else:\n",
    "    day_rent = math.trunc(hour_rent/24)\n",
    "    if (hour_rent - math.trunc(hour_rent)) >= 0.5:\n",
    "        day_rent = day_rent + 0.5\n",
    "\n",
    "\n",
    "print(day_rent)"
   ]
  },
  {
   "cell_type": "code",
   "execution_count": 1,
   "metadata": {},
   "outputs": [
    {
     "name": "stdout",
     "output_type": "stream",
     "text": [
      "Collecting bahttext\n",
      "  Downloading https://files.pythonhosted.org/packages/9a/a8/aea8ecac9c94e11f3e596fcb8b8c881e344b2177740ccc180e399e2454d2/bahttext-1.0.2.tar.gz\n",
      "Building wheels for collected packages: bahttext\n",
      "  Building wheel for bahttext (setup.py): started\n",
      "  Building wheel for bahttext (setup.py): finished with status 'done'\n",
      "  Created wheel for bahttext: filename=bahttext-1.0.2-cp37-none-any.whl size=2290 sha256=8d6196bff5044306954e1d5bb196826337beed568f54badc33e7266ff870460e\n",
      "  Stored in directory: C:\\Users\\Khaithong\\AppData\\Local\\pip\\Cache\\wheels\\7f\\4b\\07\\063f70783ff6a6edd3fd13c0a0caf242ba8281eea3e966ddbb\n",
      "Successfully built bahttext\n",
      "Installing collected packages: bahttext\n",
      "Successfully installed bahttext-1.0.2\n",
      "Note: you may need to restart the kernel to use updated packages.\n"
     ]
    }
   ],
   "source": [
    "pip install bahttext"
   ]
  },
  {
   "cell_type": "code",
   "execution_count": 6,
   "metadata": {},
   "outputs": [
    {
     "ename": "SyntaxError",
     "evalue": "invalid syntax (<ipython-input-6-c890a5694535>, line 4)",
     "output_type": "error",
     "traceback": [
      "\u001b[1;36m  File \u001b[1;32m\"<ipython-input-6-c890a5694535>\"\u001b[1;36m, line \u001b[1;32m4\u001b[0m\n\u001b[1;33m    print bahttext(number)\u001b[0m\n\u001b[1;37m                 ^\u001b[0m\n\u001b[1;31mSyntaxError\u001b[0m\u001b[1;31m:\u001b[0m invalid syntax\n"
     ]
    }
   ],
   "source": [
    "from bahttext import bahttext\n",
    "!pip install bahttext\n",
    "number = 12345.21\n",
    "print bahttext(number)"
   ]
  },
  {
   "cell_type": "code",
   "execution_count": 17,
   "metadata": {},
   "outputs": [
    {
     "name": "stdout",
     "output_type": "stream",
     "text": [
      "d18be13e965b51e3a6aa5bfef76cdfc2\n"
     ]
    }
   ],
   "source": [
    "import uuid\n",
    "from datetime import datetime\n",
    "home_pro_ref = 'HP23010001'\n",
    "tim_txt = datetime.now().strftime(\"%Y%m%d%H%M%S\") #  create time qr\n",
    "qr_code = uuid.uuid5(uuid.NAMESPACE_DNS,home_pro_ref+tim_txt)\n",
    "print(qr_code.hex)"
   ]
  },
  {
   "cell_type": "code",
   "execution_count": 1,
   "metadata": {},
   "outputs": [
    {
     "name": "stdout",
     "output_type": "stream",
     "text": [
      "<list_iterator object at 0x000002065F973D08>\n",
      "{'period': 1, 'effect_date': '2023-01-01', 'interest_rate': 0.0}\n",
      "{'period': 2, 'effect_date': '2023-02-01', 'interest_rate': 15.0}\n",
      "{'period': 3, 'effect_date': '2023-03-01', 'interest_rate': 24.0}\n",
      "None\n"
     ]
    }
   ],
   "source": [
    "\n",
    "random = [\n",
    "    { 'period':1, 'effect_date': '2023-01-01', 'interest_rate': 0.00 },\n",
    "    { 'period':2, 'effect_date': '2023-02-01', 'interest_rate': 15.00 },\n",
    "    { 'period':3, 'effect_date': '2023-03-01', 'interest_rate': 24.00 },\n",
    "]\n",
    "\n",
    "\n",
    "# converting the list to an iterator\n",
    "\n",
    "randomm_iterator = iter(random)\n",
    "\n",
    "print(randomm_iterator)\n",
    "\n",
    "print(next(randomm_iterator, None))\n",
    "\n",
    "print(next(randomm_iterator, None))\n",
    "\n",
    "print(next(randomm_iterator, None))\n",
    "\n",
    "print(next(randomm_iterator, None))\n"
   ]
  },
  {
   "cell_type": "code",
   "execution_count": 4,
   "metadata": {},
   "outputs": [
    {
     "name": "stdout",
     "output_type": "stream",
     "text": [
      "0.5678000000000338 1234.0\n"
     ]
    }
   ],
   "source": [
    "import math\n",
    "x = 1234.5678\n",
    "y = math.modf(x) # (0.5678000000000338, 1234.0)\n",
    "print(y[0], y[1])"
   ]
  },
  {
   "cell_type": "code",
   "execution_count": 2,
   "metadata": {},
   "outputs": [
    {
     "name": "stdout",
     "output_type": "stream",
     "text": [
      "0.0\n",
      "2.0\n",
      "3.0\n",
      "-1.0\n",
      "500.0\n",
      "0.0\n"
     ]
    }
   ],
   "source": [
    "# Import math Library\n",
    "import math \n",
    "\n",
    "# Return the remainder of x/y\n",
    "print(math.fmod(20, 4))\n",
    "print(math.fmod(20, 3))\n",
    "print(math.fmod(15, 6))\n",
    "print(math.fmod(-10, 3))\n",
    "print(math.fmod(1500, 1000))\n",
    "print(math.fmod(1758, 879))"
   ]
  },
  {
   "cell_type": "code",
   "execution_count": 1,
   "metadata": {},
   "outputs": [
    {
     "name": "stdout",
     "output_type": "stream",
     "text": [
      "100 10010 10\n"
     ]
    }
   ],
   "source": [
    "province_code = '100'\n",
    "amphoe_code = '10010'\n",
    "split_last_code = amphoe_code[len(province_code):]\n",
    "print(province_code, amphoe_code, split_last_code)"
   ]
  },
  {
   "cell_type": "code",
   "execution_count": 9,
   "metadata": {},
   "outputs": [
    {
     "name": "stdout",
     "output_type": "stream",
     "text": [
      "❌\n",
      "✅\n"
     ]
    }
   ],
   "source": [
    "import codecs\n",
    " \n",
    "my_string = \"E29D8C\"\n",
    "my_string2 = \"E29C85\"\n",
    "my_string_bytes = bytes(my_string, encoding='utf-8')\n",
    "my_string_bytes2 = bytes(my_string2, encoding='utf-8')\n",
    " \n",
    "binary_string = codecs.decode(my_string_bytes, \"hex\")\n",
    "binary_string2 = codecs.decode(my_string_bytes2, \"hex\")\n",
    "\n",
    "print(str(binary_string, 'utf-8'))\n",
    "print(str(binary_string2, 'utf-8'))"
   ]
  },
  {
   "cell_type": "code",
   "execution_count": 4,
   "metadata": {},
   "outputs": [
    {
     "name": "stdout",
     "output_type": "stream",
     "text": [
      "2023-08-29 12:03:27.941698+07:00\n"
     ]
    }
   ],
   "source": [
    "from pytz import timezone\n",
    "from datetime import datetime\n",
    "d1 = datetime.fromtimestamp(1693285407.9416978, timezone('Asia/Bangkok'))\n",
    "print(d1)"
   ]
  },
  {
   "cell_type": "code",
   "execution_count": 18,
   "metadata": {},
   "outputs": [
    {
     "name": "stdout",
     "output_type": "stream",
     "text": [
      "84.48\n",
      "84\n"
     ]
    }
   ],
   "source": [
    "penalty_amount = ((((3520 * 3) / 100) / 30) * 24)\n",
    "print(penalty_amount)\n",
    "float_penalty_amount = penalty_amount - int(penalty_amount)\n",
    "if float_penalty_amount >= 0.5:\n",
    "    penalty_amount = int(penalty_amount) + 1\n",
    "print(int(penalty_amount))"
   ]
  },
  {
   "cell_type": "code",
   "execution_count": 8,
   "metadata": {},
   "outputs": [
    {
     "name": "stdout",
     "output_type": "stream",
     "text": [
      "{'id': 1, 'officer_id': 10978, 'officer_code': 'นายพิเชษฐ์ ทัพอินทร์', 'officer': {'id': 10978, 'officer_code': '13100', 'officer_name': 'นายพิเชษฐ์ ทัพอินทร์', 'billcoll_status': 'Y', 'start_period': 1, 'end_period': 1}, 'over_due_period': 1, 'cont_count': 0}\n",
      "{'id': 2, 'officer_id': 10977, 'officer_code': 'การเงิน (อาทิตย์)', 'officer': {'id': 10977, 'officer_code': '41100', 'officer_name': 'การเงิน (อาทิตย์)', 'billcoll_status': 'Y', 'start_period': 1, 'end_period': 1}, 'over_due_period': 1, 'cont_count': 0}\n",
      "{'id': 3, 'officer_id': 10975, 'officer_code': 'นายจักรพงษ์  วุฒิปัญญารัตนกุล', 'officer': {'id': 10975, 'officer_code': '91200', 'officer_name': 'นายจักรพงษ์  วุฒิปัญญารัตนกุล', 'billcoll_status': 'Y', 'start_period': 1, 'end_period': 1}, 'over_due_period': 1, 'cont_count': 0}\n",
      "[{'cont_count': 1,\n",
      "  'id': 1,\n",
      "  'officer': {'billcoll_status': 'Y',\n",
      "              'end_period': 1,\n",
      "              'id': 10978,\n",
      "              'officer_code': '13100',\n",
      "              'officer_name': 'นายพิเชษฐ์ ทัพอินทร์',\n",
      "              'start_period': 1},\n",
      "  'officer_code': 'นายพิเชษฐ์ ทัพอินทร์',\n",
      "  'officer_id': 10978,\n",
      "  'over_due_period': 1},\n",
      " {'cont_count': 1,\n",
      "  'id': 2,\n",
      "  'officer': {'billcoll_status': 'Y',\n",
      "              'end_period': 1,\n",
      "              'id': 10977,\n",
      "              'officer_code': '41100',\n",
      "              'officer_name': 'การเงิน (อาทิตย์)',\n",
      "              'start_period': 1},\n",
      "  'officer_code': 'การเงิน (อาทิตย์)',\n",
      "  'officer_id': 10977,\n",
      "  'over_due_period': 1},\n",
      " {'cont_count': 1,\n",
      "  'id': 3,\n",
      "  'officer': {'billcoll_status': 'Y',\n",
      "              'end_period': 1,\n",
      "              'id': 10975,\n",
      "              'officer_code': '91200',\n",
      "              'officer_name': 'นายจักรพงษ์  วุฒิปัญญารัตนกุล',\n",
      "              'start_period': 1},\n",
      "  'officer_code': 'นายจักรพงษ์  วุฒิปัญญารัตนกุล',\n",
      "  'officer_id': 10975,\n",
      "  'over_due_period': 1},\n",
      " {'cont_count': 0,\n",
      "  'id': 4,\n",
      "  'officer': {'billcoll_status': 'Y',\n",
      "              'end_period': 2,\n",
      "              'id': 10980,\n",
      "              'officer_code': '11100',\n",
      "              'officer_name': 'นายอาทิตย์ ปัญจสุรการ',\n",
      "              'start_period': 2},\n",
      "  'officer_code': 'นายอาทิตย์ ปัญจสุรการ',\n",
      "  'officer_id': 10980,\n",
      "  'over_due_period': 2},\n",
      " {'cont_count': 0,\n",
      "  'id': 5,\n",
      "  'officer': {'billcoll_status': 'Y',\n",
      "              'end_period': 2,\n",
      "              'id': 10979,\n",
      "              'officer_code': '11200',\n",
      "              'officer_name': 'นายณรงค์ คงคะคิด',\n",
      "              'start_period': 2},\n",
      "  'officer_code': 'นายณรงค์ คงคะคิด',\n",
      "  'officer_id': 10979,\n",
      "  'over_due_period': 2},\n",
      " {'cont_count': 0,\n",
      "  'id': 6,\n",
      "  'officer': {'billcoll_status': 'Y',\n",
      "              'end_period': 2,\n",
      "              'id': 10976,\n",
      "              'officer_code': '41900',\n",
      "              'officer_name': 'การเงิน (จงกล)',\n",
      "              'start_period': 2},\n",
      "  'officer_code': 'การเงิน (จงกล)',\n",
      "  'officer_id': 10976,\n",
      "  'over_due_period': 2},\n",
      " {'cont_count': 0,\n",
      "  'id': 7,\n",
      "  'officer': {'billcoll_status': 'Y',\n",
      "              'end_period': 3,\n",
      "              'id': 10981,\n",
      "              'officer_code': '11300',\n",
      "              'officer_name': 'ตลาดรถยนต์ (หทัยทิพย์)',\n",
      "              'start_period': 3},\n",
      "  'officer_code': 'ตลาดรถยนต์ (หทัยทิพย์)',\n",
      "  'officer_id': 10981,\n",
      "  'over_due_period': 3},\n",
      " {'cont_count': 0,\n",
      "  'id': 8,\n",
      "  'officer': {'billcoll_status': 'Y',\n",
      "              'end_period': 3,\n",
      "              'id': 10982,\n",
      "              'officer_code': '14100',\n",
      "              'officer_name': 'กฎหมายรถยนต์ (อภิชาติ)',\n",
      "              'start_period': 3},\n",
      "  'officer_code': 'กฎหมายรถยนต์ (อภิชาติ)',\n",
      "  'officer_id': 10982,\n",
      "  'over_due_period': 3},\n",
      " {'cont_count': 0,\n",
      "  'id': 9,\n",
      "  'officer': {'billcoll_status': 'Y',\n",
      "              'end_period': 3,\n",
      "              'id': 10983,\n",
      "              'officer_code': 'LAW-12',\n",
      "              'officer_name': 'ลูกหนี้ (คำพิพากษา) เก่า',\n",
      "              'start_period': 3},\n",
      "  'officer_code': 'ลูกหนี้ (คำพิพากษา) เก่า',\n",
      "  'officer_id': 10983,\n",
      "  'over_due_period': 3}]\n"
     ]
    }
   ],
   "source": [
    "from pprint import pprint\n",
    "repo = [\n",
    "    {'id': 1, 'officer_id': 10978, 'officer_code': 'นายพิเชษฐ์ ทัพอินทร์', \n",
    "     'officer': {'id': 10978, 'officer_code': '13100', 'officer_name': 'นายพิเชษฐ์ ทัพอินทร์', 'billcoll_status': 'Y', 'start_period': 1, 'end_period': 1}, \n",
    "     'over_due_period': 1, 'cont_count': 0}, \n",
    "    {'id': 2, 'officer_id': 10977, 'officer_code': 'การเงิน (อาทิตย์)', \n",
    "     'officer': {'id': 10977, 'officer_code': '41100', 'officer_name': 'การเงิน (อาทิตย์)', 'billcoll_status': 'Y', 'start_period': 1, 'end_period': 1}, \n",
    "     'over_due_period': 1, 'cont_count': 0}, \n",
    "    {'id': 3, 'officer_id': 10975, 'officer_code': 'นายจักรพงษ์  วุฒิปัญญารัตนกุล', \n",
    "     'officer': {'id': 10975, 'officer_code': '91200', 'officer_name': 'นายจักรพงษ์  วุฒิปัญญารัตนกุล', 'billcoll_status': 'Y', 'start_period': 1, 'end_period': 1}, \n",
    "     'over_due_period': 1, 'cont_count': 0}, \n",
    "    {'id': 4, 'officer_id': 10980, 'officer_code': 'นายอาทิตย์ ปัญจสุรการ', \n",
    "     'officer': {'id': 10980, 'officer_code': '11100', 'officer_name': 'นายอาทิตย์ ปัญจสุรการ', 'billcoll_status': 'Y', 'start_period': 2, 'end_period': 2}, \n",
    "     'over_due_period': 2, 'cont_count': 0}, \n",
    "    {'id': 5, 'officer_id': 10979, 'officer_code': 'นายณรงค์ คงคะคิด', \n",
    "     'officer': {'id': 10979, 'officer_code': '11200', 'officer_name': 'นายณรงค์ คงคะคิด', 'billcoll_status': 'Y', 'start_period': 2, 'end_period': 2}, \n",
    "     'over_due_period': 2, 'cont_count': 0}, \n",
    "    {'id': 6, 'officer_id': 10976, 'officer_code': 'การเงิน (จงกล)', \n",
    "     'officer': {'id': 10976, 'officer_code': '41900', 'officer_name': 'การเงิน (จงกล)', 'billcoll_status': 'Y', 'start_period': 2, 'end_period': 2}, \n",
    "     'over_due_period': 2, 'cont_count': 0}, \n",
    "    {'id': 7, 'officer_id': 10981, 'officer_code': 'ตลาดรถยนต์ (หทัยทิพย์)', \n",
    "     'officer': {'id': 10981, 'officer_code': '11300', 'officer_name': 'ตลาดรถยนต์ (หทัยทิพย์)', 'billcoll_status': 'Y', 'start_period': 3, 'end_period': 3}, \n",
    "     'over_due_period': 3, 'cont_count': 0}, \n",
    "    {'id': 8, 'officer_id': 10982, 'officer_code': 'กฎหมายรถยนต์ (อภิชาติ)', \n",
    "     'officer': {'id': 10982, 'officer_code': '14100', 'officer_name': 'กฎหมายรถยนต์ (อภิชาติ)', 'billcoll_status': 'Y', 'start_period': 3, 'end_period': 3}, \n",
    "     'over_due_period': 3, 'cont_count': 0}, \n",
    "    {'id': 9, 'officer_id': 10983, 'officer_code': 'ลูกหนี้ (คำพิพากษา) เก่า', \n",
    "     'officer': {'id': 10983, 'officer_code': 'LAW-12', 'officer_name': 'ลูกหนี้ (คำพิพากษา) เก่า', 'billcoll_status': 'Y', 'start_period': 3, 'end_period': 3}, \n",
    "     'over_due_period': 3, 'cont_count': 0}\n",
    "]\n",
    "over_due_repo = sorted(filter(lambda x: x['over_due_period'] == 1, repo), key=lambda x: (x['cont_count'], x['id']), reverse=False)\n",
    "\n",
    "print(over_due_repo[0])\n",
    "over_due_repo[0]['cont_count'] +=1\n",
    "\n",
    "over_due_repo = sorted(filter(lambda x: x['over_due_period'] == 1, repo), key=lambda x: (x['cont_count'], x['id']), reverse=False)\n",
    "\n",
    "print(over_due_repo[0])\n",
    "over_due_repo[0]['cont_count'] +=1\n",
    "\n",
    "over_due_repo = sorted(filter(lambda x: x['over_due_period'] == 1, repo), key=lambda x: (x['cont_count'], x['id']), reverse=False)\n",
    "\n",
    "print(over_due_repo[0])\n",
    "over_due_repo[0]['cont_count'] +=1\n",
    "\n",
    "pprint(repo)\n",
    "\n"
   ]
  },
  {
   "cell_type": "code",
   "execution_count": 37,
   "metadata": {},
   "outputs": [
    {
     "name": "stdout",
     "output_type": "stream",
     "text": [
      "Month Number: 2\n",
      "Month full name is: February\n"
     ]
    }
   ],
   "source": [
    "import calendar\n",
    "\n",
    "num = 2\n",
    "print('Month Number:', num)\n",
    "\n",
    "# get month name\n",
    "print('Month full name is:', calendar.month_name[num])"
   ]
  },
  {
   "cell_type": "code",
   "execution_count": 156,
   "metadata": {},
   "outputs": [
    {
     "name": "stdout",
     "output_type": "stream",
     "text": [
      "AIS ทดสอบ\n",
      "\\x0041\\x0049\\x0053\\x0020\\x0e17\\x0e14\\x0e2a\\x0e2d\\x0e1a \u0000A\u0000I\u0000S\u0000 \u000e\u0017\u000e\u0014\u000e*\u000e-\u000e\u001a\n",
      "b'\\\\x0041\\\\x0049\\\\x0053\\\\x0020\\\\x0e17\\\\x0e14\\\\x0e2a\\\\x0e2d\\\\x0e1a' b'\\x00A\\x00I\\x00S\\x00 \\x0e\\x17\\x0e\\x14\\x0e*\\x0e-\\x0e\\x1a'\n",
      "b'\\x0041\\x0049\\x0053\\x0020\\x0e17\\x0e14\\x0e2a\\x0e2d\\x0e1a'\n",
      "b'\\x00A\\x00I\\x00S\\x00 \\x0e\\x17\\x0e\\x14\\x0e*\\x0e-\\x0e\\x1a'\n",
      "quote1 %0041%0049%0053%0020%0E17%0E14%0E2a%0E2d%0E1a\n",
      "quote2 %00A%00I%00S%00%20%0E%17%0E%14%0E%2A%0E-%0E%1A\n",
      "CONTENT=%0041%0049%0053%0020%0E17%0E14%0E2a%0E2d%0E1a\n"
     ]
    }
   ],
   "source": [
    "from urllib.parse import urlencode, unquote, quote\n",
    "\n",
    "def display_unicode(data):\n",
    "    # hex_string = \"\"\n",
    "    # for l in data:\n",
    "    #     print(hex(ord(l)))\n",
    "    #     hex_string = hex_string+ hex(ord(l))[2:]\n",
    "    # print(hex_string)\n",
    "    # print(bytes.fromhex(hex_string))\n",
    "    return \"\".join([\"\\\\x%s\" % hex(ord(l))[2:].zfill(4) for l in data])\n",
    "\n",
    "data = 'AIS ทดสอบ'\n",
    "# data = data.encode('ascii', 'ignore').decode()\n",
    "print(data)\n",
    "new = display_unicode(data)\n",
    "new2 = '\\x00\\x41\\x00\\x49\\x00\\x53\\x00\\x20\\x0e\\x17\\x0e\\x14\\x0e\\x2a\\x0e\\x2d\\x0e\\x1a'\n",
    "print(new, new2)\n",
    "new = bytes(new, 'utf-8')\n",
    "new2 = bytes(new2, 'utf-8')\n",
    "print(new, new2)\n",
    "new = new.decode('unicode-escape').encode('ISO-8859-1')\n",
    "new2 = new2.decode('unicode-escape').encode('ISO-8859-1')\n",
    "print(new)\n",
    "print(new2)\n",
    "# print(b''.join(new))\n",
    "# print(bytes(new))\n",
    "# print('utf =', 'AIS'.encode('utf-16be'))\n",
    "print('quote1', quote(new))\n",
    "print('quote2', quote(new2))\n",
    "url_str = urlencode({\n",
    "    'CONTENT': new\n",
    "})\n",
    "print(url_str)\n",
    "\n",
    "# data_ais = unquote('%00%41%00%49%00%53%00%20%0E%17%0E%14%0E%2A%0E%2D%0E%1A')\n",
    "# data_ais2 = b'\\x0041\\x0049\\x0053\\x0020'\n",
    "# print(type(data_ais2))\n",
    "# print(data_ais2.decode('a'))"
   ]
  },
  {
   "cell_type": "code",
   "execution_count": 3,
   "metadata": {},
   "outputs": [
    {
     "name": "stdout",
     "output_type": "stream",
     "text": [
      "ขอบคุณที่ชำระเงิน CL00105-2211C00002 จำนวน 1,440.00 บ.(25/09/66)\n",
      "0E020E2D0E1A0E040E380E130E170E350E480E0A0E330E230E300E400E070E340E1900200043004C00300030003100300035002D003200320031003100430030003000300030003200200E080E330E190E270E1900200031002C003400340030002E0030003000200E1A002E002800320035002F00300039002F003600360029\n",
      "256\n",
      "['0E', '02', '0E', '2D', '0E', '1A', '0E', '04', '0E', '38', '0E', '13', '0E', '17', '0E', '35', '0E', '48', '0E', '0A', '0E', '33', '0E', '23', '0E', '30', '0E', '40', '0E', '07', '0E', '34', '0E', '19', '00', '20', '00', '43', '00', '4C', '00', '30', '00', '30', '00', '31', '00', '30', '00', '35', '00', '2D', '00', '32', '00', '32', '00', '31', '00', '31', '00', '43', '00', '30', '00', '30', '00', '30', '00', '30', '00', '32', '00', '20', '0E', '08', '0E', '33', '0E', '19', '0E', '27', '0E', '19', '00', '20', '00', '31', '00', '2C', '00', '34', '00', '34', '00', '30', '00', '2E', '00', '30', '00', '30', '00', '20', '0E', '1A', '00', '2E', '00', '28', '00', '32', '00', '35', '00', '2F', '00', '30', '00', '39', '00', '2F', '00', '36', '00', '36', '00', '29']\n",
      "%0E%02%0E%2D%0E%1A%0E%04%0E%38%0E%13%0E%17%0E%35%0E%48%0E%0A%0E%33%0E%23%0E%30%0E%40%0E%07%0E%34%0E%19%00%20%00%43%00%4C%00%30%00%30%00%31%00%30%00%35%00%2D%00%32%00%32%00%31%00%31%00%43%00%30%00%30%00%30%00%30%00%32%00%20%0E%08%0E%33%0E%19%0E%27%0E%19%00%20%00%31%00%2C%00%34%00%34%00%30%00%2E%00%30%00%30%00%20%0E%1A%00%2E%00%28%00%32%00%35%00%2F%00%30%00%39%00%2F%00%36%00%36%00%29\n",
      "\u000e\u0002\u000e-\u000e\u001a\u000e\u0004\u000e8\u000e\u0013\u000e\u0017\u000e5\u000eH\u000e\n",
      "\u000e3\u000e#\u000e0\u000e@\u000e\u0007\u000e4\u000e\u0019\u0000 \u0000C\u0000L\u00000\u00000\u00001\u00000\u00005\u0000-\u00002\u00002\u00001\u00001\u0000C\u00000\u00000\u00000\u00000\u00002\u0000 \u000e3\u000e\u0019\u000e'\u000e\u0019\u0000 \u00001\u0000,\u00004\u00004\u00000\u0000.\u00000\u00000\u0000 \u000e\u001a\u0000.\u0000(\u00002\u00005\u0000/\u00000\u00009\u0000/\u00006\u00006\u0000)\n",
      "aaa=123&bbb=789&ccc=%0E%02%0E%2D%0E%1A%0E%04%0E%38%0E%13%0E%17%0E%35%0E%48%0E%0A%0E%33%0E%23%0E%30%0E%40%0E%07%0E%34%0E%19%00%20%00%43%00%4C%00%30%00%30%00%31%00%30%00%35%00%2D%00%32%00%32%00%31%00%31%00%43%00%30%00%30%00%30%00%30%00%32%00%20%0E%08%0E%33%0E%19%0E%27%0E%19%00%20%00%31%00%2C%00%34%00%34%00%30%00%2E%00%30%00%30%00%20%0E%1A%00%2E%00%28%00%32%00%35%00%2F%00%30%00%39%00%2F%00%36%00%36%00%29\n"
     ]
    }
   ],
   "source": [
    "from urllib.parse import urlencode, unquote, quote\n",
    "# message = 'AIS ทดสอบ'\n",
    "message = 'ขอบคุณที่ชำระเงิน {} จำนวน {:,.2f} บ.({})'.format(\n",
    "    'CL00105-2211C00002',\n",
    "    float(1440.00),\n",
    "    '25/09/66'\n",
    ")\n",
    "print(message)\n",
    "# message.encode('utf-16-be')\n",
    "result = message.encode(encoding=\"utf-16be\")\n",
    "print(result.hex().upper())\n",
    "print(len(result.hex()))\n",
    "char_list = [hex(i)[2:].zfill(2).upper() for i in result]\n",
    "print(char_list)\n",
    "a = \"\"\n",
    "for i in char_list:   \n",
    "    a += \"%\"+i\n",
    "print(a)\n",
    "data_ais = unquote(a)\n",
    "print(data_ais)\n",
    "url_str = urlencode({\n",
    "    'aaa': '123',\n",
    "    'bbb': '789',\n",
    "})\n",
    "url_str += \"&ccc=\"+a\n",
    "print(url_str)"
   ]
  }
 ],
 "metadata": {
  "kernelspec": {
   "display_name": "Python 3",
   "language": "python",
   "name": "python3"
  },
  "language_info": {
   "codemirror_mode": {
    "name": "ipython",
    "version": 3
   },
   "file_extension": ".py",
   "mimetype": "text/x-python",
   "name": "python",
   "nbconvert_exporter": "python",
   "pygments_lexer": "ipython3",
   "version": "3.10.4"
  }
 },
 "nbformat": 4,
 "nbformat_minor": 2
}
