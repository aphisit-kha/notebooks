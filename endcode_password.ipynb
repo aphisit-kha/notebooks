{
 "cells": [
  {
   "cell_type": "code",
   "execution_count": 36,
   "metadata": {},
   "outputs": [
    {
     "name": "stdout",
     "output_type": "stream",
     "text": [
      "5\n",
      "93\n",
      "236\n",
      "493\n",
      "838\n",
      "1243\n",
      "S\n",
      "O\n",
      "F\n",
      "T\n",
      "1327132413161331\n"
     ]
    }
   ],
   "source": [
    "userid = 'SETUP'\n",
    "passwrd = 'SOFT'\n",
    "L = len(userid)\n",
    "P = range(len(passwrd))\n",
    "K = range(len(userid))\n",
    "for J in K:\n",
    "    print(str(L))\n",
    "    L = L+(ord(userid[J])*(J+1))+len(userid)\n",
    "print(str(L))\n",
    "\n",
    "endcode = ''\n",
    "for I in P:\n",
    "    print(passwrd[I])\n",
    "    endcode = endcode + chr(127) + str(ord(passwrd[I]) + L + (I+1))\n",
    "endcode = endcode + chr(127)\n",
    "print(endcode)\n",
    "# ทดสอบ git"
   ]
  },
  {
   "cell_type": "code",
   "execution_count": null,
   "metadata": {},
   "outputs": [],
   "source": []
  }
 ],
 "metadata": {
  "kernelspec": {
   "display_name": "Python 3",
   "language": "python",
   "name": "python3"
  },
  "language_info": {
   "codemirror_mode": {
    "name": "ipython",
    "version": 3
   },
   "file_extension": ".py",
   "mimetype": "text/x-python",
   "name": "python",
   "nbconvert_exporter": "python",
   "pygments_lexer": "ipython3",
   "version": "3.7.4"
  }
 },
 "nbformat": 4,
 "nbformat_minor": 2
}
