{
 "cells": [
  {
   "cell_type": "code",
   "execution_count": 24,
   "metadata": {},
   "outputs": [
    {
     "name": "stdout",
     "output_type": "stream",
     "text": [
      "ก\n",
      "ก\n",
      "ก\n",
      "ก\n"
     ]
    }
   ],
   "source": [
    "import re\n",
    "text = [\n",
    "    'เกียรติศักดิ์ ประนุช',\n",
    "    'กฤติณ ประนุช',\n",
    "    'กิตติเชษฐ์ นพกาศ',\n",
    "    'แก้วตา ภูขจรพานิชย์',\n",
    "]\n",
    "for foo in text:\n",
    "#     print(re.sub(r'a', 'b', 'banana'))\n",
    "    sub_text = foo[0:2]\n",
    "    sub_text = re.sub(r'[เ-ไ]', '', sub_text)\n",
    "    print(sub_text[0:1])\n",
    "#     print(sub_text, re.sub(r'[เ-ไ]', '', sub_text))"
   ]
  },
  {
   "cell_type": "code",
   "execution_count": null,
   "metadata": {},
   "outputs": [],
   "source": []
  }
 ],
 "metadata": {
  "kernelspec": {
   "display_name": "Python 3",
   "language": "python",
   "name": "python3"
  },
  "language_info": {
   "codemirror_mode": {
    "name": "ipython",
    "version": 3
   },
   "file_extension": ".py",
   "mimetype": "text/x-python",
   "name": "python",
   "nbconvert_exporter": "python",
   "pygments_lexer": "ipython3",
   "version": "3.7.4"
  }
 },
 "nbformat": 4,
 "nbformat_minor": 2
}
