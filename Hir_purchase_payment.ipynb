{
 "cells": [
  {
   "cell_type": "code",
   "execution_count": 6,
   "metadata": {},
   "outputs": [
    {
     "name": "stdout",
     "output_type": "stream",
     "text": [
      "  period  due_date      installment    net_installment    vat_installment    principal    interest    net_principal  payment_date      payment    net_payment    vat_payment    principal_paid    interest_paid\n",
      "--------  ----------  -------------  -----------------  -----------------  -----------  ----------  ---------------  --------------  ---------  -------------  -------------  ----------------  ---------------\n",
      "       1  2020-08-23            950             887.85              62.15       645.17      242.68          8354.83  2020-08-10            950              0              0                 0                0\n",
      "       2  2020-09-23            950             887.85              62.15       662.57      225.28          7692.26  2020-08-10            250              0              0                 0                0\n",
      "       3  2020-10-23            950             887.85              62.15       680.44      207.41          7011.82                          0              0              0                 0                0\n",
      "       4  2020-11-23            950             887.85              62.15       698.78      189.07          6313.04                          0              0              0                 0                0\n",
      "       5  2020-12-23            950             887.85              62.15       717.63      170.22          5595.41                          0              0              0                 0                0\n",
      "       6  2021-01-23            950             887.85              62.15       736.98      150.87          4858.43                          0              0              0                 0                0\n",
      "       7  2021-02-23            950             887.85              62.15       756.85      131             4101.58                          0              0              0                 0                0\n",
      "       8  2021-03-23            950             887.85              62.15       777.26      110.59          3324.32                          0              0              0                 0                0\n",
      "       9  2021-04-23            950             887.85              62.15       798.21       89.64          2526.11                          0              0              0                 0                0\n",
      "      10  2021-05-23            950             887.85              62.15       819.74       68.11          1706.37                          0              0              0                 0                0\n",
      "      11  2021-06-23            950             887.85              62.15       841.84       46.01           864.53                          0              0              0                 0                0\n",
      "      12  2021-07-23            950             887.85              62.15       864.53       23.32             0                             0              0              0                 0                0\n"
     ]
    }
   ],
   "source": [
    "import datetime\n",
    "from decimal import Decimal\n",
    "from tabulate import tabulate\n",
    "# ตารางค่างวด\n",
    "contract_period = [\n",
    "        {'period': 1, 'due_date': datetime.date(2020, 8, 23), 'installment': Decimal('950.00'), 'net_installment': Decimal('887.85'), 'vat_installment': Decimal('62.15'), 'principal': Decimal('645.17'), \n",
    "         'interest': Decimal('242.68'), 'net_principal': Decimal('8354.83'), 'payment_date': None, 'payment': Decimal('0.00'), 'net_payment': Decimal('0.00'), 'vat_payment': Decimal('0.00'), \n",
    "         'principal_paid': Decimal('0.00'), 'interest_paid': Decimal('0.00')},\n",
    "        {'period': 2, 'due_date': datetime.date(2020, 9, 23), 'installment': Decimal('950.00'), 'net_installment': Decimal('887.85'), 'vat_installment': Decimal('62.15'), 'principal': Decimal('662.57'), \n",
    "         'interest': Decimal('225.28'), 'net_principal': Decimal('7692.26'), 'payment_date': None, 'payment': Decimal('0.00'), 'net_payment': Decimal('0.00'), 'vat_payment': Decimal('0.00'), \n",
    "         'principal_paid': Decimal('0.00'), 'interest_paid': Decimal('0.00')},\n",
    "        {'period': 3, 'due_date': datetime.date(2020, 10, 23), 'installment': Decimal('950.00'), 'net_installment': Decimal('887.85'), 'vat_installment': Decimal('62.15'), 'principal': Decimal('680.44'), \n",
    "         'interest': Decimal('207.41'), 'net_principal': Decimal('7011.82'), 'payment_date': None, 'payment': Decimal('0.00'), 'net_payment': Decimal('0.00'), 'vat_payment': Decimal('0.00'), \n",
    "         'principal_paid': Decimal('0.00'), 'interest_paid': Decimal('0.00')},\n",
    "        {'period': 4, 'due_date': datetime.date(2020, 11, 23), 'installment': Decimal('950.00'), 'net_installment': Decimal('887.85'), 'vat_installment': Decimal('62.15'), 'principal': Decimal('698.78'), \n",
    "         'interest': Decimal('189.07'), 'net_principal': Decimal('6313.04'), 'payment_date': None, 'payment': Decimal('0.00'), 'net_payment': Decimal('0.00'), 'vat_payment': Decimal('0.00'), \n",
    "         'principal_paid': Decimal('0.00'), 'interest_paid': Decimal('0.00')},\n",
    "        {'period': 5, 'due_date': datetime.date(2020, 12, 23), 'installment': Decimal('950.00'), 'net_installment': Decimal('887.85'), 'vat_installment': Decimal('62.15'), 'principal': Decimal('717.63'), \n",
    "         'interest': Decimal('170.22'), 'net_principal': Decimal('5595.41'), 'payment_date': None, 'payment': Decimal('0.00'), 'net_payment': Decimal('0.00'), 'vat_payment': Decimal('0.00'), \n",
    "         'principal_paid': Decimal('0.00'), 'interest_paid': Decimal('0.00')},\n",
    "        {'period': 6, 'due_date': datetime.date(2021, 1, 23), 'installment': Decimal('950.00'), 'net_installment': Decimal('887.85'), 'vat_installment': Decimal('62.15'), 'principal': Decimal('736.98'), \n",
    "         'interest': Decimal('150.87'), 'net_principal': Decimal('4858.43'), 'payment_date': None, 'payment': Decimal('0.00'), 'net_payment': Decimal('0.00'), 'vat_payment': Decimal('0.00'), \n",
    "         'principal_paid': Decimal('0.00'), 'interest_paid': Decimal('0.00')},\n",
    "        {'period': 7, 'due_date': datetime.date(2021, 2, 23), 'installment': Decimal('950.00'), 'net_installment': Decimal('887.85'), 'vat_installment': Decimal('62.15'), 'principal': Decimal('756.85'), \n",
    "         'interest': Decimal('131.00'), 'net_principal': Decimal('4101.58'), 'payment_date': None, 'payment': Decimal('0.00'), 'net_payment': Decimal('0.00'), 'vat_payment': Decimal('0.00'), \n",
    "         'principal_paid': Decimal('0.00'), 'interest_paid': Decimal('0.00')},\n",
    "        {'period': 8, 'due_date': datetime.date(2021, 3, 23), 'installment': Decimal('950.00'), 'net_installment': Decimal('887.85'), 'vat_installment': Decimal('62.15'), 'principal': Decimal('777.26'), \n",
    "         'interest': Decimal('110.59'), 'net_principal': Decimal('3324.32'), 'payment_date': None, 'payment': Decimal('0.00'), 'net_payment': Decimal('0.00'), 'vat_payment': Decimal('0.00'), \n",
    "         'principal_paid': Decimal('0.00'), 'interest_paid': Decimal('0.00')},\n",
    "        {'period': 9, 'due_date': datetime.date(2021, 4, 23), 'installment': Decimal('950.00'), 'net_installment': Decimal('887.85'), 'vat_installment': Decimal('62.15'), 'principal': Decimal('798.21'), \n",
    "         'interest': Decimal('89.64'), 'net_principal': Decimal('2526.11'), 'payment_date': None, 'payment': Decimal('0.00'), 'net_payment': Decimal('0.00'), 'vat_payment': Decimal('0.00'), \n",
    "         'principal_paid': Decimal('0.00'), 'interest_paid': Decimal('0.00')},\n",
    "        {'period': 10, 'due_date': datetime.date(2021, 5, 23), 'installment': Decimal('950.00'), 'net_installment': Decimal('887.85'), 'vat_installment': Decimal('62.15'), 'principal': Decimal('819.74'), \n",
    "         'interest': Decimal('68.11'), 'net_principal': Decimal('1706.37'), 'payment_date': None, 'payment': Decimal('0.00'), 'net_payment': Decimal('0.00'), 'vat_payment': Decimal('0.00'), \n",
    "         'principal_paid': Decimal('0.00'), 'interest_paid': Decimal('0.00')},\n",
    "        {'period': 11, 'due_date': datetime.date(2021, 6, 23), 'installment': Decimal('950.00'), 'net_installment': Decimal('887.85'), 'vat_installment': Decimal('62.15'), 'principal': Decimal('841.84'), \n",
    "         'interest': Decimal('46.01'), 'net_principal': Decimal('864.53'), 'payment_date': None, 'payment': Decimal('0.00'), 'net_payment': Decimal('0.00'), 'vat_payment': Decimal('0.00'), \n",
    "         'principal_paid': Decimal('0.00'), 'interest_paid': Decimal('0.00')},\n",
    "        {'period': 12, 'due_date': datetime.date(2021, 7, 23), 'installment': Decimal('950.00'), 'net_installment': Decimal('887.85'), 'vat_installment': Decimal('62.15'), 'principal': Decimal('864.53'), \n",
    "         'interest': Decimal('23.32'), 'net_principal': Decimal('0.00'), 'payment_date': None, 'payment': Decimal('0.00'), 'net_payment': Decimal('0.00'), 'vat_payment': Decimal('0.00'), \n",
    "         'principal_paid': Decimal('0.00'), 'interest_paid': Decimal('0.00')}\n",
    "    ]\n",
    "# จำนวนเงินที่ชำระ\n",
    "payment = 1200\n",
    "paydate = datetime.date(2020, 8, 10)\n",
    "# update ตารางค่างวด\n",
    "for period in contract_period:\n",
    "    if (period['installment'] > period['payment']) and (payment > 0):\n",
    "        a = period['installment'] - period['payment']\n",
    "        if a >= payment:\n",
    "            period['payment'] = period['payment'] + payment\n",
    "            period['payment_date'] = paydate\n",
    "            a = a - payment\n",
    "            payment = 0\n",
    "        else:\n",
    "            period['payment'] = period['installment']\n",
    "            period['payment_date'] = paydate\n",
    "            payment = payment - a\n",
    "            a = 0\n",
    "# แสดงตารางค่างวด\n",
    "print(tabulate(contract_period, headers=\"keys\"))"
   ]
  },
  {
   "cell_type": "code",
   "execution_count": null,
   "metadata": {},
   "outputs": [],
   "source": []
  }
 ],
 "metadata": {
  "kernelspec": {
   "display_name": "Python 3",
   "language": "python",
   "name": "python3"
  },
  "language_info": {
   "codemirror_mode": {
    "name": "ipython",
    "version": 3
   },
   "file_extension": ".py",
   "mimetype": "text/x-python",
   "name": "python",
   "nbconvert_exporter": "python",
   "pygments_lexer": "ipython3",
   "version": "3.7.4"
  }
 },
 "nbformat": 4,
 "nbformat_minor": 2
}
