{
 "cells": [
  {
   "cell_type": "code",
   "execution_count": 1,
   "metadata": {},
   "outputs": [
    {
     "name": "stdout",
     "output_type": "stream",
     "text": [
      "940\n"
     ]
    }
   ],
   "source": [
    "import numpy_financial as npf\n",
    "import math\n",
    "def roundup(x):\n",
    "    return int(math.ceil(x / 10)) * 10\n",
    "eff_rate = 0.2+0.01\n",
    "loan = 10000\n",
    "period = 12\n",
    "installment = roundup(npf.pmt(eff_rate/12,period,loan)*-1)\n",
    "print(installment)\n",
    "# หา PMT"
   ]
  },
  {
   "cell_type": "code",
   "execution_count": 3,
   "metadata": {},
   "outputs": [
    {
     "name": "stdout",
     "output_type": "stream",
     "text": [
      "34450.56612937514\n"
     ]
    }
   ],
   "source": [
    "import numpy_financial as npf\n",
    "import math\n",
    "def roundup(x):\n",
    "    return int(math.ceil(x / 10)) * 10\n",
    "eff_rate = 0.2\n",
    "loan = 100000\n",
    "period = 3\n",
    "installment = npf.pmt(eff_rate/12,period,loan)*-1\n",
    "print(installment)"
   ]
  },
  {
   "cell_type": "code",
   "execution_count": null,
   "metadata": {},
   "outputs": [],
   "source": []
  }
 ],
 "metadata": {
  "kernelspec": {
   "display_name": "Python 3",
   "language": "python",
   "name": "python3"
  },
  "language_info": {
   "codemirror_mode": {
    "name": "ipython",
    "version": 3
   },
   "file_extension": ".py",
   "mimetype": "text/x-python",
   "name": "python",
   "nbconvert_exporter": "python",
   "pygments_lexer": "ipython3",
   "version": "3.7.4"
  }
 },
 "nbformat": 4,
 "nbformat_minor": 4
}
