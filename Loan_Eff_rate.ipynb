{
 "cells": [
  {
   "cell_type": "code",
   "execution_count": 9,
   "metadata": {},
   "outputs": [
    {
     "name": "stdout",
     "output_type": "stream",
     "text": [
      "2150\n"
     ]
    }
   ],
   "source": [
    "import numpy_financial as npf\n",
    "import math\n",
    "def roundup(x):\n",
    "    return int(math.ceil(x / 10)) * 10\n",
    "eff_rate = 0.24\n",
    "loan = 12000\n",
    "period = 6\n",
    "installment = roundup(npf.pmt(eff_rate/12,period,-loan))\n",
    "print(installment)\n",
    "# หา PMT"
   ]
  },
  {
   "cell_type": "code",
   "execution_count": null,
   "metadata": {},
   "outputs": [],
   "source": []
  }
 ],
 "metadata": {
  "kernelspec": {
   "display_name": "Python 3",
   "language": "python",
   "name": "python3"
  },
  "language_info": {
   "codemirror_mode": {
    "name": "ipython",
    "version": 3
   },
   "file_extension": ".py",
   "mimetype": "text/x-python",
   "name": "python",
   "nbconvert_exporter": "python",
   "pygments_lexer": "ipython3",
   "version": "3.7.4"
  }
 },
 "nbformat": 4,
 "nbformat_minor": 4
}
